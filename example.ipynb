{
 "cells": [
  {
   "cell_type": "code",
   "execution_count": 1,
   "id": "0fd49979",
   "metadata": {},
   "outputs": [],
   "source": [
    "# 1️⃣ Install the SDK (once per env)\n",
    "#    !pip install ibm-watson\n",
    "\n",
    "from ibm_watson import NaturalLanguageUnderstandingV1\n",
    "from ibm_watson.natural_language_understanding_v1 import Features, EmotionOptions\n",
    "from ibm_cloud_sdk_core.authenticators import IAMAuthenticator\n",
    "import pandas as pd"
   ]
  },
  {
   "cell_type": "code",
   "execution_count": null,
   "id": "c09e1c08",
   "metadata": {},
   "outputs": [
    {
     "name": "stdout",
     "output_type": "stream",
     "text": [
      "IBM Watson SDK is available: 10.0.0\n"
     ]
    }
   ],
   "source": [
    "# 2️⃣ Load your journal (or other text) into a DataFrame\n",
    "journal = pd.read_csv(\"journal_entries.csv\")  # columns: 'date', 'entry'\n"
   ]
  },
  {
   "cell_type": "code",
   "execution_count": null,
   "id": "e0b39495",
   "metadata": {},
   "outputs": [],
   "source": [
    "from src.cli import analyze_csv\n",
    "\n",
    "# reads reviews.csv, analyzes the “review_text” column,\n",
    "# and writes out reviews_with_tones.csv\n",
    "df_with_tones = analyze_csv(\n",
    "    input_csv=\"data/reviews.csv\",\n",
    "    text_column=\"review_text\",\n",
    "    output_csv=\"data/reviews_with_tones.csv\"\n",
    ")\n",
    "\n",
    "df_with_tones.head()\n"
   ]
  }
 ],
 "metadata": {
  "kernelspec": {
   "display_name": "Notebook-to-Prod (.venv)",
   "language": "python",
   "name": "notebook-to-prod-env"
  },
  "language_info": {
   "codemirror_mode": {
    "name": "ipython",
    "version": 3
   },
   "file_extension": ".py",
   "mimetype": "text/x-python",
   "name": "python",
   "nbconvert_exporter": "python",
   "pygments_lexer": "ipython3",
   "version": "3.13.3"
  }
 },
 "nbformat": 4,
 "nbformat_minor": 5
}
