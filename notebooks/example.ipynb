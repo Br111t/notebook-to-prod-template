{
 "cells": [
  {
   "cell_type": "markdown",
   "id": "0fbba065",
   "metadata": {},
   "source": [
    "# Table of Contents\n",
    "\n",
    "1. [Introduction](#1-introduction)  \n",
    "   - [1.1 What this notebook covers](#11-what-this-notebook-covers)  \n",
    "   - [1.2 Why this topic or project matters](#12-why-this-topic-or-project-matters)  \n",
    "\n",
    "2. [Background](#2-background)  \n",
    "   - [2.1 Fundamentals of network analysis](#21-fundamentals-of-network-analysis)  \n",
    "       * Nodes, edges, weighted graphs, basic metrics (degree, centrality)  \n",
    "   - [2.2 Co-occurrence as a proxy for semantic proximity](#22-co-occurrence-as-a-proxy-for-semantic-proximity)  \n",
    "       * Why raw co-mentions can reveal thematic structure  \n",
    "   - [2.3 Concept extraction in NLP](#23-concept-extraction-in-nlp)  \n",
    "       * Supervised labeling (Watson NLU, spaCy, TF-IDF keywords) vs. unsupervised keyphrase methods  \n",
    "   - [2.4 Comparison to other exploratory methods](#24-comparison-to-other-exploratory-methods)  \n",
    "       * Topic modeling (LDA/BERTopic) vs. graph-based mapping  \n",
    "       * Embedding-based similarity graphs  \n",
    "\n",
    "3. [Objectives](#3-objectives)  \n",
    "   - [3.1 What this notebook will demonstrate](#31-what-this-notebook-will-demonstrate)  \n",
    "   - [3.2 Expected outcomes of the analysis](#32-expected-outcomes-of-the-analysis)  \n",
    "\n",
    "4. [Setup](#4-setup)  \n",
    "   - [4.1 Install/import libraries](#41-installimport-libraries)  \n",
    "   - [4.2 Load and preview data](#42-load-and-preview-data)  \n",
    "\n",
    "5. [Preprocessing](#5-preprocessing)  \n",
    "   - [5.1 Data cleaning & concept filtering](#51-data-cleaning--concept-filtering)  \n",
    "       * 5.1.1 Filtering by relevance, taxonomy & manual overrides  \n",
    "       * 5.1.2 Normalizing strings & deduplication  \n",
    "   - [5.2 Create initial DataFrames or dictionaries](#52-create-initial-dataframes-or-dictionaries)  \n",
    "       * One for counts, one for edges (with weights)\n",
    "\n",
    "6. [Graph Construction](#6-graph-construction)  \n",
    "   - [6.1 Building the graph using NetworkX](#61-building-the-graph-using-networkx)  \n",
    "     - [6.1.1 `nx.Graph` vs `nx.DiGraph` with weighted edges](#611-nxgraph-vs-nxdigraph-with-weighted-edges)  \n",
    "   - [6.2 Directed vs undirected, weights, labels, etc.](#62-directed-vs-undirected-weights-labels-etc)  \n",
    "   - [6.3 Visualizations (layout, color by emotion or function)](#63-visualizations-layout-color-by-emotion-or-function)  \n",
    "\n",
    "7. [Graph Analysis](#7-graph-analysis)  \n",
    "   - [7.1 Centrality, clustering, shortest paths, connected components](#71-centrality-clustering-shortest-paths-connected-components)  \n",
    "   - [7.2 Subgraph exploration (e.g., emotion-specific clusters)](#72-subgraph-exploration-eg-emotion-specific-clusters)  \n",
    "\n",
    "8. [Advanced Visualization](#8-advanced-visualization)  \n",
    "   - [8.1 Using pyvis, Plotly, or enhanced NetworkX visuals](#81-using-pyvis-plotly-or-enhanced-networkx-visuals)  \n",
    "   - [8.2 Interactive graph options](#82-interactive-graph-options)  \n",
    "\n",
    "9. [Insights & Interpretation](#9-insights--interpretation)  \n",
    "   - [9.1 What the graph reveals about emotional triggers, semantic structure, or Jakobsonian functions](#91-what-the-graph-reveals-about-emotional-triggers-semantic-structure-or-jakobsonian-functions)  \n",
    "   - [9.2 Surprising or significant findings](#92-surprising-or-significant-findings)  \n",
    "\n",
    "10. [Conclusion](#10-conclusion)  \n",
    "    - [10.1 Summary of learnings](#101-summary-of-learnings)  \n",
    "    - [10.2 Next steps or extensions](#102-next-steps-or-extensions)  \n",
    "\n",
    "11. [Appendix (Optional)](#11-appendix-optional)  \n",
    "    - [11.1 Notes on concept embeddings, model details, references](#111-notes-on-concept-embeddings-model-details-references)  \n",
    "    - [11.2 Runtime notes, parameter tweaks](#112-runtime-notes-parameter-tweaks)  \n"
   ]
  },
  {
   "cell_type": "markdown",
   "id": "5b196886",
   "metadata": {},
   "source": [
    "### 1. Introduction\n",
    "\n",
    "##### 1.1 What this notebook covers\n",
    "\n",
    "In this notebook, we’ll explore how labeled concepts co-occur across a corpus to reveal thematic structures, key connectors, and emerging patterns. We’ll:\n",
    "\n",
    "- **Extract concepts** using IBM Watson NLU (a supervised model trained on human-annotated data).  \n",
    "- **Build an unsupervised co-occurrence network** by counting how often each pair of concepts appears together.  \n",
    "- **Visualize and analyze** the resulting graph to generate hypotheses such as “Do concepts in the ‘care’ category cluster tightly?” or “Which ideas serve as bridges between topics?”\n",
    "\n",
    "This workflow transforms raw NLU output into an interpretable map of concept relationships, setting the stage for deeper community detection or downstream graph analyses.\n",
    "\n",
    "##### 1.2 Why this topic/project matters\n",
    "\n",
    "Co-occurrence graphs are widely used to make sense of large text collections. They help practitioners:\n",
    "\n",
    "| Role / Industry                | Purpose                                                                                         |\n",
    "|--------------------------------|-------------------------------------------------------------------------------------------------|\n",
    "| **Text-mining researchers**    | Map topic structures in news archives, academic papers, or survey responses.                    |\n",
    "| **Data scientists & NLP teams**| Uncover hidden themes in customer feedback, social media, or support tickets.                   |\n",
    "| **Digital humanists**          | Study how concepts (e.g., “war,” “peace,” “diplomacy”) cluster in historical texts.             |\n",
    "| **Knowledge-management (KM)**  | Build internal concept maps to visualize how departments or documents interrelate.              |\n",
    "| **Social-science researchers** | Analyze concept co-occurrence in interview transcripts or online communities.                   |\n",
    "\n",
    "Key insights you can gain:\n",
    "\n",
    "- **Thematic hot-spots:** Clusters of strongly connected nodes reveal major topics or concerns.  \n",
    "- **Bridging concepts:** Nodes with high betweenness centrality indicate pivot ideas—ideal targets for messaging or intervention.  \n",
    "- **Hidden correlations:** Unexpected pairings (e.g., “delivery” with “anxiety”) flag areas for qualitative follow-up.  \n",
    "- **Trend detection:** Comparing graphs over time uncovers shifts in concept relationships.  \n",
    "- **Dimensionality reduction:** Graph features (e.g., communities or embeddings) can feed into clustering or classification pipelines.\n",
    "\n",
    "**Why your data is valuable**  \n",
    "Your concepts come from human-annotated NLU, ensuring each node reflects a meaningful semantic unit. Rather than manually reviewing hundreds of documents, this network gives you a bird’s-eye view of all key terms and their interrelations, turning outliers and hubs into testable hypotheses. Plus, the same pipeline can apply to any corpus—support tickets, product reviews, legal filings, and beyond.\n",
    "\n",
    "#### 1.3 Data scope and scalability\n",
    "\n",
    "> **Note on sample size:**  \n",
    "> In this notebook we work with a small subset of just 35 concepts so that each step (matrix builds, layout, community detection) runs instantly and the code remains easy to follow.  \n",
    "\n",
    "> **Scalability:**  \n",
    "> All of the same operations—binarizing a concept–document matrix, computing co-occurrence via sparse matrix multiplication, and running NetworkX (or graph-tool/igraph for very large graphs)—scale to thousands (or even millions) of concepts and documents. In production you’d simply switch to sparse data structures (e.g. `scipy.sparse`), a more performant graph library, and batch or distributed NLU extraction (Watson NLU, spaCy pipelines, etc.).  \n",
    "\n",
    "\n",
    "---"
   ]
  },
  {
   "cell_type": "markdown",
   "id": "7797ab7c",
   "metadata": {},
   "source": [
    "### 2. Background\n",
    "\n",
    "#### 2.1 Fundamentals of network analysis  \n",
    "A **graph** (or network) is a mathematical structure of **nodes** (vertices) and **edges** (links). In text analysis:  \n",
    "- **Nodes** represent units like words, phrases, or—here—pre-extracted concepts.  \n",
    "- **Edges** represent associations (e.g. co-occurrence in the same document).  \n",
    "- **Weighted edges** carry numeric values (e.g. co-occurrence counts), so stronger links stand out.\n",
    "\n",
    "Key graph metrics:  \n",
    "\n",
    "| Term                      | Definition                                                                             |\n",
    "|---------------------------|----------------------------------------------------------------------------------------|\n",
    "| **Degree**                | Number of edges connected to a node.                                                   |\n",
    "| **Betweenness centrality**| Frequency a node lies on shortest paths between others—high values signal “bridges.”   |\n",
    "| **Community**             | A cluster of nodes more densely connected to each other than to the rest of the graph. |\n",
    "| **Layout algorithms**     | Methods (spring, circular, etc.) to arrange nodes for clearer visualization.           |\n",
    "\n",
    "#### 2.2 Co-occurrence as a proxy for semantic proximity  \n",
    "When two concepts appear together frequently, it often signals a thematic link. Raw co-mentions can uncover:  \n",
    "- **Topics & subtopics:** clusters of tightly connected nodes point to major themes.  \n",
    "- **Bridges & outliers:** high-betweenness nodes connect disparate themes; isolated nodes flag niche or mis-extracted terms.  \n",
    "- **Evolution over time:** by slicing your data chronologically, you can track how these associations shift.\n",
    "\n",
    "#### 2.3 Concept extraction in NLP  \n",
    "Concepts can be pulled from text via:  \n",
    "- **Supervised models** (Watson NLU, spaCy’s entity/concept extractors, TF-IDF keyword ranking)  \n",
    "- **Unsupervised keyphrase methods** (RAKE, TextRank, YAKE)  \n",
    "\n",
    "Use cases:  \n",
    "- **Exploratory analysis:** surface major themes and emotional undertones in large corpora.  \n",
    "- **Hypothesis generation:** test if, for example, “delivery” co-occurs more with “anxiety” than “satisfaction.”  \n",
    "- **Feature engineering:** use node degrees or community labels in downstream classifiers (e.g. churn prediction).  \n",
    "- **Emotion-aware applications:** tailor chatbots or alerts based on which emotional concepts dominate.\n",
    "\n",
    "#### 2.4 Comparison to other exploratory methods  \n",
    "- **Topic modeling (LDA, BERTopic):** probabilistic distributions of topics per document—good for broad strokes, but lacks explicit concept-to-concept links.  \n",
    "- **Embedding similarity graphs:** connect concepts by semantic vector proximity—captures meaning beyond co-mentions, but requires embedding models and tuning.\n",
    "\n",
    "> **Problem framing**  \n",
    "> “Given a set of labeled concepts (with emotion tags), how can an unsupervised co-occurrence graph reveal thematic structures and emotional dynamics to inform further modeling or interventions?”\n"
   ]
  },
  {
   "cell_type": "markdown",
   "id": "174d43fc",
   "metadata": {},
   "source": [
    "### 3. Objectives\n",
    "\n",
    "#### 3.1 What this notebook will demonstrate\n",
    "\n",
    "In this analysis, we will:\n",
    "\n",
    "- **Detect hidden topic structures**  \n",
    "  Apply community-detection (e.g. Louvain) to the co-occurrence network.  \n",
    "  *Hypothesis:* Predefined concept groups (e.g. “care”–related terms) form distinct clusters.\n",
    "\n",
    "- **Identify bridge concepts**  \n",
    "  Measure betweenness centrality to find nodes connecting major clusters.  \n",
    "  *Hypothesis:* High-betweenness nodes correspond to pivot ideas or key jargon.\n",
    "\n",
    "- **Compare frequency vs. centrality**  \n",
    "  Rank concepts by occurrence count, degree, and betweenness.  \n",
    "  *Hypothesis:* The most frequent concepts are not always the most central or influential.\n",
    "\n",
    "#### 3.2 Expected outcomes of the analysis\n",
    "\n",
    "By the end of this notebook, you will have:\n",
    "\n",
    "- A **visual co-occurrence graph** showing main communities and bridge nodes.  \n",
    "- A **ranked table of concepts** by frequency, degree, and betweenness centrality.  \n",
    "- **Community labels** for each concept, with an evaluation of alignment to known categories.  \n",
    "- A list of **unexpected co-occurrences** flagged for deeper qualitative review.  \n",
    "- A **reusable workflow** for exploratory concept-network analysis in any text corpus.\n"
   ]
  },
  {
   "cell_type": "markdown",
   "id": "037c7ebe",
   "metadata": {},
   "source": [
    "### 4. Setup\n",
    "\n",
    "#### 4.1 Install/import libraries"
   ]
  },
  {
   "cell_type": "code",
   "execution_count": null,
   "id": "2faede02",
   "metadata": {},
   "outputs": [],
   "source": [
    "from notebook_service.cli import analyze_df\n",
    "from notebook_service.graph_builder import (\n",
    "    preprocess_concepts,\n",
    "    compute_cooccurrence,\n",
    "    build_semantic_graph,\n",
    "    compute_centrality,\n",
    "    detect_communities,\n",
    "    node_to_community_map,\n",
    ")\n",
    "import pandas as pd\n",
    "import networkx as nx\n",
    "import numpy as np\n",
    "import plotly.express as px\n",
    "import matplotlib.pyplot as plt\n",
    "from community import community_louvain  # python-louvain\n",
    "from collections import Counter\n",
    "from collections import defaultdict\n",
    "from sklearn.metrics import silhouette_score\n",
    "from sklearn.manifold import spectral_embedding\n",
    "from sklearn.cluster import KMeans\n",
    "\n",
    "pd.set_option(\"display.max_columns\", None)"
   ]
  },
  {
   "cell_type": "markdown",
   "id": "c59673fa",
   "metadata": {},
   "source": [
    "#### 4.2 Load and preview data"
   ]
  },
  {
   "cell_type": "code",
   "execution_count": 2,
   "id": "c09e1c08",
   "metadata": {},
   "outputs": [
    {
     "data": {
      "text/html": [
       "<div>\n",
       "<style scoped>\n",
       "    .dataframe tbody tr th:only-of-type {\n",
       "        vertical-align: middle;\n",
       "    }\n",
       "\n",
       "    .dataframe tbody tr th {\n",
       "        vertical-align: top;\n",
       "    }\n",
       "\n",
       "    .dataframe thead th {\n",
       "        text-align: right;\n",
       "    }\n",
       "</style>\n",
       "<table border=\"1\" class=\"dataframe\">\n",
       "  <thead>\n",
       "    <tr style=\"text-align: right;\">\n",
       "      <th></th>\n",
       "      <th>entries</th>\n",
       "      <th>sadness</th>\n",
       "      <th>joy</th>\n",
       "      <th>fear</th>\n",
       "      <th>disgust</th>\n",
       "      <th>anger</th>\n",
       "      <th>concepts_raw</th>\n",
       "      <th>concepts</th>\n",
       "      <th>semantic_roles</th>\n",
       "    </tr>\n",
       "  </thead>\n",
       "  <tbody>\n",
       "    <tr>\n",
       "      <th>0</th>\n",
       "      <td>I felt anxious today, so I impulsively ordered...</td>\n",
       "      <td>0.332842</td>\n",
       "      <td>0.049939</td>\n",
       "      <td>0.104065</td>\n",
       "      <td>0.005845</td>\n",
       "      <td>0.212283</td>\n",
       "      <td>[{'text': 'Delivery (commerce)', 'relevance': ...</td>\n",
       "      <td>[Delivery (commerce), Anxiety, Restaurant, Foo...</td>\n",
       "      <td>[(I, felt, anxious), (I, ordered, food delivery)]</td>\n",
       "    </tr>\n",
       "    <tr>\n",
       "      <th>1</th>\n",
       "      <td>After my promotion, I confidently adjusted my ...</td>\n",
       "      <td>0.074566</td>\n",
       "      <td>0.334086</td>\n",
       "      <td>0.117670</td>\n",
       "      <td>0.033797</td>\n",
       "      <td>0.014482</td>\n",
       "      <td>[{'text': 'Retirement', 'relevance': 0.701228,...</td>\n",
       "      <td>[Retirement, Fundraising, Ageing, Old age, Soc...</td>\n",
       "      <td>[(I, adjusted, my retirement contributions)]</td>\n",
       "    </tr>\n",
       "    <tr>\n",
       "      <th>2</th>\n",
       "      <td>Stress led me to overspend on shopping yesterday.</td>\n",
       "      <td>0.665364</td>\n",
       "      <td>0.122717</td>\n",
       "      <td>0.186756</td>\n",
       "      <td>0.003421</td>\n",
       "      <td>0.029566</td>\n",
       "      <td>[{'text': 'Light-emitting diode', 'relevance':...</td>\n",
       "      <td>[Light-emitting diode, Retail, Comparison shop...</td>\n",
       "      <td>[(Stress, led, me)]</td>\n",
       "    </tr>\n",
       "    <tr>\n",
       "      <th>3</th>\n",
       "      <td>Today was incredibly frustrating; I spent hour...</td>\n",
       "      <td>0.246144</td>\n",
       "      <td>0.081976</td>\n",
       "      <td>0.028637</td>\n",
       "      <td>0.018688</td>\n",
       "      <td>0.129494</td>\n",
       "      <td>[{'text': 'Breakpoint', 'relevance': 0.748042,...</td>\n",
       "      <td>[Breakpoint, Debugger, In-circuit emulation, T...</td>\n",
       "      <td>[(Today, was, frustrating; I spent hours debug...</td>\n",
       "    </tr>\n",
       "    <tr>\n",
       "      <th>4</th>\n",
       "      <td>Our sprint demo went perfectly—I’m feeling pro...</td>\n",
       "      <td>0.482779</td>\n",
       "      <td>0.598429</td>\n",
       "      <td>0.011331</td>\n",
       "      <td>0.011596</td>\n",
       "      <td>0.010271</td>\n",
       "      <td>[{'text': 'Sprint', 'relevance': 0.873445, 'db...</td>\n",
       "      <td>[Sprint, Sprint (cycling), Flat racing, Sprint...</td>\n",
       "      <td>[(Our sprint demo, went, ), (I, ’m feeling, pr...</td>\n",
       "    </tr>\n",
       "  </tbody>\n",
       "</table>\n",
       "</div>"
      ],
      "text/plain": [
       "                                             entries   sadness       joy  \\\n",
       "0  I felt anxious today, so I impulsively ordered...  0.332842  0.049939   \n",
       "1  After my promotion, I confidently adjusted my ...  0.074566  0.334086   \n",
       "2  Stress led me to overspend on shopping yesterday.  0.665364  0.122717   \n",
       "3  Today was incredibly frustrating; I spent hour...  0.246144  0.081976   \n",
       "4  Our sprint demo went perfectly—I’m feeling pro...  0.482779  0.598429   \n",
       "\n",
       "       fear   disgust     anger  \\\n",
       "0  0.104065  0.005845  0.212283   \n",
       "1  0.117670  0.033797  0.014482   \n",
       "2  0.186756  0.003421  0.029566   \n",
       "3  0.028637  0.018688  0.129494   \n",
       "4  0.011331  0.011596  0.010271   \n",
       "\n",
       "                                        concepts_raw  \\\n",
       "0  [{'text': 'Delivery (commerce)', 'relevance': ...   \n",
       "1  [{'text': 'Retirement', 'relevance': 0.701228,...   \n",
       "2  [{'text': 'Light-emitting diode', 'relevance':...   \n",
       "3  [{'text': 'Breakpoint', 'relevance': 0.748042,...   \n",
       "4  [{'text': 'Sprint', 'relevance': 0.873445, 'db...   \n",
       "\n",
       "                                            concepts  \\\n",
       "0  [Delivery (commerce), Anxiety, Restaurant, Foo...   \n",
       "1  [Retirement, Fundraising, Ageing, Old age, Soc...   \n",
       "2  [Light-emitting diode, Retail, Comparison shop...   \n",
       "3  [Breakpoint, Debugger, In-circuit emulation, T...   \n",
       "4  [Sprint, Sprint (cycling), Flat racing, Sprint...   \n",
       "\n",
       "                                      semantic_roles  \n",
       "0  [(I, felt, anxious), (I, ordered, food delivery)]  \n",
       "1       [(I, adjusted, my retirement contributions)]  \n",
       "2                                [(Stress, led, me)]  \n",
       "3  [(Today, was, frustrating; I spent hours debug...  \n",
       "4  [(Our sprint demo, went, ), (I, ’m feeling, pr...  "
      ]
     },
     "execution_count": 2,
     "metadata": {},
     "output_type": "execute_result"
    }
   ],
   "source": [
    "df = pd.read_csv(\"../data/input.csv\")\n",
    "nlu_df = analyze_df(df, text_column=\"entries\")\n",
    "nlu_df.head()"
   ]
  },
  {
   "cell_type": "markdown",
   "id": "193e0278",
   "metadata": {},
   "source": [
    "### 5. Preprocessing\n",
    "\n",
    "##### 5.1.1 Manual review of extracted concepts\n",
    "\n",
    "> **Quality check:**  \n",
    "> Automated concept extraction (e.g. via Watson NLU) can sometimes mis‐map or over‐segment terms.  \n",
    "> Before computing any co-occurrences, we’ll inspect the cleaned list of 35 concepts, correct obvious mislabels or split/merge near-duplicates, and document any overrides.  \n",
    "> This manual pass ensures that our network truly reflects the semantics we care about.\n"
   ]
  },
  {
   "cell_type": "code",
   "execution_count": 3,
   "id": "e0b39495",
   "metadata": {},
   "outputs": [
    {
     "data": {
      "text/html": [
       "<div>\n",
       "<style scoped>\n",
       "    .dataframe tbody tr th:only-of-type {\n",
       "        vertical-align: middle;\n",
       "    }\n",
       "\n",
       "    .dataframe tbody tr th {\n",
       "        vertical-align: top;\n",
       "    }\n",
       "\n",
       "    .dataframe thead th {\n",
       "        text-align: right;\n",
       "    }\n",
       "</style>\n",
       "<table border=\"1\" class=\"dataframe\">\n",
       "  <thead>\n",
       "    <tr style=\"text-align: right;\">\n",
       "      <th></th>\n",
       "      <th>doc_index</th>\n",
       "      <th>concept</th>\n",
       "      <th>relevance</th>\n",
       "    </tr>\n",
       "  </thead>\n",
       "  <tbody>\n",
       "    <tr>\n",
       "      <th>0</th>\n",
       "      <td>0</td>\n",
       "      <td>Delivery (commerce)</td>\n",
       "      <td>0.489526</td>\n",
       "    </tr>\n",
       "    <tr>\n",
       "      <th>1</th>\n",
       "      <td>0</td>\n",
       "      <td>Anxiety</td>\n",
       "      <td>0.481023</td>\n",
       "    </tr>\n",
       "    <tr>\n",
       "      <th>2</th>\n",
       "      <td>0</td>\n",
       "      <td>Restaurant</td>\n",
       "      <td>0.357562</td>\n",
       "    </tr>\n",
       "    <tr>\n",
       "      <th>3</th>\n",
       "      <td>0</td>\n",
       "      <td>Food storage</td>\n",
       "      <td>0.357562</td>\n",
       "    </tr>\n",
       "    <tr>\n",
       "      <th>4</th>\n",
       "      <td>1</td>\n",
       "      <td>Retirement</td>\n",
       "      <td>0.701228</td>\n",
       "    </tr>\n",
       "    <tr>\n",
       "      <th>...</th>\n",
       "      <td>...</td>\n",
       "      <td>...</td>\n",
       "      <td>...</td>\n",
       "    </tr>\n",
       "    <tr>\n",
       "      <th>152</th>\n",
       "      <td>33</td>\n",
       "      <td>Evoked potential</td>\n",
       "      <td>0.189411</td>\n",
       "    </tr>\n",
       "    <tr>\n",
       "      <th>153</th>\n",
       "      <td>33</td>\n",
       "      <td>Lecture</td>\n",
       "      <td>0.114161</td>\n",
       "    </tr>\n",
       "    <tr>\n",
       "      <th>154</th>\n",
       "      <td>33</td>\n",
       "      <td>Externalism</td>\n",
       "      <td>0.112955</td>\n",
       "    </tr>\n",
       "    <tr>\n",
       "      <th>155</th>\n",
       "      <td>33</td>\n",
       "      <td>Psychoneuroimmunology</td>\n",
       "      <td>0.112955</td>\n",
       "    </tr>\n",
       "    <tr>\n",
       "      <th>156</th>\n",
       "      <td>34</td>\n",
       "      <td>Home Alone</td>\n",
       "      <td>0.789693</td>\n",
       "    </tr>\n",
       "  </tbody>\n",
       "</table>\n",
       "<p>157 rows × 3 columns</p>\n",
       "</div>"
      ],
      "text/plain": [
       "     doc_index                concept  relevance\n",
       "0            0    Delivery (commerce)   0.489526\n",
       "1            0                Anxiety   0.481023\n",
       "2            0             Restaurant   0.357562\n",
       "3            0           Food storage   0.357562\n",
       "4            1             Retirement   0.701228\n",
       "..         ...                    ...        ...\n",
       "152         33       Evoked potential   0.189411\n",
       "153         33                Lecture   0.114161\n",
       "154         33            Externalism   0.112955\n",
       "155         33  Psychoneuroimmunology   0.112955\n",
       "156         34             Home Alone   0.789693\n",
       "\n",
       "[157 rows x 3 columns]"
      ]
     },
     "execution_count": 3,
     "metadata": {},
     "output_type": "execute_result"
    }
   ],
   "source": [
    "# Preprocess concepts to filter by relevance and clean up\n",
    "df_concepts = preprocess_concepts(nlu_df)\n",
    "\n",
    "# Inspect the result\n",
    "df_concepts"
   ]
  },
  {
   "cell_type": "markdown",
   "id": "c714bd5b",
   "metadata": {},
   "source": [
    "### 6. Graph Construction"
   ]
  },
  {
   "cell_type": "code",
   "execution_count": null,
   "id": "03ec3726",
   "metadata": {},
   "outputs": [
    {
     "data": {
      "text/html": [
       "<div>\n",
       "<style scoped>\n",
       "    .dataframe tbody tr th:only-of-type {\n",
       "        vertical-align: middle;\n",
       "    }\n",
       "\n",
       "    .dataframe tbody tr th {\n",
       "        vertical-align: top;\n",
       "    }\n",
       "\n",
       "    .dataframe thead th {\n",
       "        text-align: right;\n",
       "    }\n",
       "</style>\n",
       "<table border=\"1\" class=\"dataframe\">\n",
       "  <thead>\n",
       "    <tr style=\"text-align: right;\">\n",
       "      <th></th>\n",
       "      <th>Concept A</th>\n",
       "      <th>Concept B</th>\n",
       "      <th>Count</th>\n",
       "    </tr>\n",
       "  </thead>\n",
       "  <tbody>\n",
       "    <tr>\n",
       "      <th>0</th>\n",
       "      <td>Affect (psychology)</td>\n",
       "      <td>Emotion</td>\n",
       "      <td>2</td>\n",
       "    </tr>\n",
       "    <tr>\n",
       "      <th>1</th>\n",
       "      <td>Affect (psychology)</td>\n",
       "      <td>Intuition</td>\n",
       "      <td>2</td>\n",
       "    </tr>\n",
       "    <tr>\n",
       "      <th>2</th>\n",
       "      <td>Affect (psychology)</td>\n",
       "      <td>Phenomenology (psychology)</td>\n",
       "      <td>2</td>\n",
       "    </tr>\n",
       "    <tr>\n",
       "      <th>3</th>\n",
       "      <td>Affect (psychology)</td>\n",
       "      <td>Psychological Types</td>\n",
       "      <td>2</td>\n",
       "    </tr>\n",
       "    <tr>\n",
       "      <th>4</th>\n",
       "      <td>Code</td>\n",
       "      <td>Time</td>\n",
       "      <td>2</td>\n",
       "    </tr>\n",
       "    <tr>\n",
       "      <th>5</th>\n",
       "      <td>Emotion</td>\n",
       "      <td>Intuition</td>\n",
       "      <td>2</td>\n",
       "    </tr>\n",
       "    <tr>\n",
       "      <th>6</th>\n",
       "      <td>Emotion</td>\n",
       "      <td>Phenomenology (psychology)</td>\n",
       "      <td>2</td>\n",
       "    </tr>\n",
       "    <tr>\n",
       "      <th>7</th>\n",
       "      <td>Emotion</td>\n",
       "      <td>Psychological Types</td>\n",
       "      <td>2</td>\n",
       "    </tr>\n",
       "    <tr>\n",
       "      <th>8</th>\n",
       "      <td>Intuition</td>\n",
       "      <td>Phenomenology (psychology)</td>\n",
       "      <td>2</td>\n",
       "    </tr>\n",
       "    <tr>\n",
       "      <th>9</th>\n",
       "      <td>Intuition</td>\n",
       "      <td>Psychological Types</td>\n",
       "      <td>2</td>\n",
       "    </tr>\n",
       "  </tbody>\n",
       "</table>\n",
       "</div>"
      ],
      "text/plain": [
       "             Concept A                   Concept B  Count\n",
       "0  Affect (psychology)                     Emotion      2\n",
       "1  Affect (psychology)                   Intuition      2\n",
       "2  Affect (psychology)  Phenomenology (psychology)      2\n",
       "3  Affect (psychology)         Psychological Types      2\n",
       "4                 Code                        Time      2\n",
       "5              Emotion                   Intuition      2\n",
       "6              Emotion  Phenomenology (psychology)      2\n",
       "7              Emotion         Psychological Types      2\n",
       "8            Intuition  Phenomenology (psychology)      2\n",
       "9            Intuition         Psychological Types      2"
      ]
     },
     "execution_count": 4,
     "metadata": {},
     "output_type": "execute_result"
    }
   ],
   "source": [
    "# build the network\n",
    "M, C, edges = compute_cooccurrence(df_concepts, threshold=2)\n",
    "\n",
    "# undirected graph\n",
    "G_und = build_semantic_graph(df_concepts, threshold=2, directed=False)\n",
    "\n",
    "# compute centrality\n",
    "G_und_metrics = compute_centrality(G_und)  # e.g. degree\n",
    "# metrics is a dict { node: degree_centrality }\n",
    "\n",
    "# detect communities\n",
    "G_und_comm_sets = detect_communities(G_und)  # list of sets\n",
    "\n",
    "# comm_sets is a list of sets, where each set contains\n",
    "# nodes in the same community\n",
    "# flatten to {node:community_id}\n",
    "G_und_comm_map = node_to_community_map(G_und_comm_sets)\n",
    "\n",
    "# peek at the very top co-occurrences\n",
    "G_und_top_pairs = sorted(edges, key=lambda e: e[2], reverse=True)[:10]\n",
    "\n",
    "undirected_pairs = pd.DataFrame(\n",
    "    G_und_top_pairs, columns=[\"Concept A\", \"Concept B\", \"Count\"]\n",
    ")\n",
    "undirected_pairs"
   ]
  },
  {
   "cell_type": "code",
   "execution_count": null,
   "id": "3d5a5c56",
   "metadata": {},
   "outputs": [
    {
     "data": {
      "image/png": "[encoded data removed]",
      "text/plain": [
       "<Figure size 1000x800 with 1 Axes>"
      ]
     },
     "metadata": {},
     "output_type": "display_data"
    }
   ],
   "source": [
    "# -- Parameters --\n",
    "PERCENTILE = 99  # keep top 1% edges\n",
    "MIN_COMM_SIZE = 9  # only show communities with >= this many nodes\n",
    "SEED = 42  # for layout reproducibility\n",
    "\n",
    "# -- Data prep: assume df_clean and C are already defined --\n",
    "# df_clean: DataFrame with one row per (doc_index, concept, relevance)\n",
    "# C: NumPy array co-occurrence matrix, shape (n_feats, n_feats)\n",
    "feat_names = sorted(df_concepts[\"concept\"].unique())\n",
    "assert C.shape == (\n",
    "    len(feat_names),\n",
    "    len(feat_names),\n",
    "), \"C and feat_names length mismatch!\"\n",
    "\n",
    "# Threshold edges by percentile (using pure NumPy)\n",
    "C_arr = np.asarray(C)  # ensure it’s a NumPy array\n",
    "i, j = np.triu_indices_from(C_arr, k=1)  # strictly above the diagonal\n",
    "weights = C_arr[i, j]\n",
    "thresh = np.percentile(weights, PERCENTILE)\n",
    "C_thresh = np.zeros_like(C_arr)\n",
    "C_thresh[C_arr >= thresh] = C_arr[C_arr >= thresh]\n",
    "\n",
    "# Build and label graph\n",
    "G = nx.from_numpy_array(C_thresh)\n",
    "mapping = {i: feat for i, feat in enumerate(feat_names)}\n",
    "G = nx.relabel_nodes(G, mapping)\n",
    "\n",
    "# Run Louvain\n",
    "partition = community_louvain.best_partition(\n",
    "    G, weight=\"weight\", random_state=SEED\n",
    ")\n",
    "\n",
    "# Filter small communities\n",
    "sizes = Counter(partition.values())\n",
    "keep_comms = {cid for cid, sz in sizes.items() if sz >= MIN_COMM_SIZE}\n",
    "large_nodes = [n for n, cid in partition.items() if cid in keep_comms]\n",
    "G_sub = G.subgraph(large_nodes).copy()\n",
    "partition_sub = {n: partition[n] for n in large_nodes}\n",
    "\n",
    "# Visualize with fewer nodes & stronger edges\n",
    "fig, ax = plt.subplots(figsize=(10, 8))\n",
    "pos = nx.spring_layout(G_sub, seed=SEED)\n",
    "\n",
    "# Draw only the largest communities\n",
    "nx.draw_networkx_nodes(\n",
    "    G_sub,\n",
    "    pos,\n",
    "    node_color=[partition_sub[n] for n in G_sub.nodes()],\n",
    "    cmap=plt.get_cmap(\"tab20\"),\n",
    "    node_size=200,  # slightly bigger so small groups stand out\n",
    "    ax=ax,\n",
    ")\n",
    "\n",
    "# Draw only edges in the top 1% (instead of 5%) to unclutter\n",
    "edge_weights = np.array([G_sub[u][v][\"weight\"] for u, v in G_sub.edges()])\n",
    "edge_thresh = np.percentile(edge_weights, 99)\n",
    "heavy_edges = [\n",
    "    (u, v)\n",
    "    for (u, v), w in zip(G_sub.edges(), edge_weights)\n",
    "    if w >= edge_thresh\n",
    "]\n",
    "nx.draw_networkx_edges(\n",
    "    G_sub,\n",
    "    pos,\n",
    "    edgelist=heavy_edges,\n",
    "    width=[G_sub[u][v][\"weight\"] * 0.2 for u, v in heavy_edges],\n",
    "    alpha=0.8,\n",
    "    ax=ax,\n",
    ")\n",
    "\n",
    "nx.draw_networkx_labels(G_sub, pos, font_size=10, ax=ax)\n",
    "ax.set_title(\n",
    "    f\"Louvain Communities (≥ {MIN_COMM_SIZE} nodes, top 1% edges)\", fontsize=16\n",
    ")\n",
    "ax.axis(\"off\")\n",
    "plt.tight_layout()\n",
    "plt.show()"
   ]
  },
  {
   "cell_type": "code",
   "execution_count": 6,
   "id": "222194b9",
   "metadata": {},
   "outputs": [
    {
     "name": "stdout",
     "output_type": "stream",
     "text": [
      "\n",
      "Total communities (size ≥ 9): 3\n"
     ]
    },
    {
     "data": {
      "text/html": [
       "<div>\n",
       "<style scoped>\n",
       "    .dataframe tbody tr th:only-of-type {\n",
       "        vertical-align: middle;\n",
       "    }\n",
       "\n",
       "    .dataframe tbody tr th {\n",
       "        vertical-align: top;\n",
       "    }\n",
       "\n",
       "    .dataframe thead th {\n",
       "        text-align: right;\n",
       "    }\n",
       "</style>\n",
       "<table border=\"1\" class=\"dataframe\">\n",
       "  <thead>\n",
       "    <tr style=\"text-align: right;\">\n",
       "      <th></th>\n",
       "      <th>community_id</th>\n",
       "      <th>size</th>\n",
       "    </tr>\n",
       "  </thead>\n",
       "  <tbody>\n",
       "    <tr>\n",
       "      <th>0</th>\n",
       "      <td>0</td>\n",
       "      <td>11</td>\n",
       "    </tr>\n",
       "    <tr>\n",
       "      <th>1</th>\n",
       "      <td>1</td>\n",
       "      <td>14</td>\n",
       "    </tr>\n",
       "    <tr>\n",
       "      <th>2</th>\n",
       "      <td>5</td>\n",
       "      <td>11</td>\n",
       "    </tr>\n",
       "  </tbody>\n",
       "</table>\n",
       "</div>"
      ],
      "text/plain": [
       "   community_id  size\n",
       "0             0    11\n",
       "1             1    14\n",
       "2             5    11"
      ]
     },
     "execution_count": 6,
     "metadata": {},
     "output_type": "execute_result"
    }
   ],
   "source": [
    "# Count sizes of each community in your filtered subgraph\n",
    "sizes = Counter(partition_sub.values())\n",
    "\n",
    "# Build a DataFrame and sort by size\n",
    "df_sizes = (\n",
    "    pd.DataFrame.from_dict(sizes, orient=\"index\", columns=[\"size\"])\n",
    "    .rename_axis(\"community_id\")\n",
    "    .reset_index()\n",
    "    .sort_values(\"community_id\", ascending=True)\n",
    ")\n",
    "\n",
    "\n",
    "print(f\"\\nTotal communities (size ≥ {MIN_COMM_SIZE}): {len(df_sizes)}\")\n",
    "df_sizes"
   ]
  },
  {
   "cell_type": "code",
   "execution_count": 7,
   "id": "2e18e319",
   "metadata": {},
   "outputs": [
    {
     "name": "stdout",
     "output_type": "stream",
     "text": [
      "\n",
      "Community 0 (11 nodes):\n",
      "A priori and a posteriori, Albert Einstein, Code, Critique of Pure Reason, Force, Immanuel Kant, Learning, Philosophy of space and time, Rate (mathematics), Special relativity, Time\n",
      "\n",
      "Community 1 (14 nodes):\n",
      "Affect (psychology), Belief, Ceiling, Consciousness, Cost overrun, Decision-making, Emotion, Intuition, Phenomenology (psychology), Promotion and relegation, Psychological Types, Reality, Sentience, Spot-fixing\n",
      "\n",
      "Community 5 (11 nodes):\n",
      "Assembly language, Breakpoint, Debugger, In-circuit emulation, OS X, Patch (computing), Software, Software bug, Software testing, Tracing (software), Web application\n"
     ]
    }
   ],
   "source": [
    "comm_members = defaultdict(list)\n",
    "for node, cid in partition.items():\n",
    "    if sizes[cid] >= MIN_COMM_SIZE:\n",
    "        comm_members[cid].append(node)\n",
    "\n",
    "for cid, members in comm_members.items():\n",
    "    print(f\"\\nCommunity {cid} ({len(members)} nodes):\")\n",
    "    print(\", \".join(members))"
   ]
  },
  {
   "cell_type": "code",
   "execution_count": null,
   "id": "b1dd2189",
   "metadata": {},
   "outputs": [
    {
     "name": "stdout",
     "output_type": "stream",
     "text": [
      "Spectral-embedding silhouette (k=3): 0.5716061534066341\n"
     ]
    },
    {
     "name": "stderr",
     "output_type": "stream",
     "text": [
      "c:\\Users\\britt\\source\\repos\\notebook-to-prod-template\\.venv\\Lib\\site-packages\\sklearn\\manifold\\_spectral_embedding.py:328: UserWarning:\n",
      "\n",
      "Graph is not fully connected, spectral embedding may not work as expected.\n",
      "\n"
     ]
    }
   ],
   "source": [
    "# Make a dense adjacency matrix\n",
    "affinity = nx.to_numpy_array(G, nodelist=feat_names)\n",
    "\n",
    "# Compute the spectral embedding of your affinity matrix\n",
    "X_emb = spectral_embedding(affinity, n_components=3, random_state=42)\n",
    "\n",
    "# Run KMeans in that 3-dim space\n",
    "km = KMeans(n_clusters=3, random_state=42, n_init=10).fit(X_emb)\n",
    "labels_emb = km.labels_\n",
    "\n",
    "# Silhouette in Euclidean space\n",
    "score_emb = silhouette_score(X_emb, labels_emb, metric=\"euclidean\")\n",
    "print(\"Spectral-embedding silhouette (k=3):\", score_emb)"
   ]
  },
  {
   "cell_type": "code",
   "execution_count": 20,
   "id": "9909c094",
   "metadata": {},
   "outputs": [
    {
     "name": "stdout",
     "output_type": "stream",
     "text": [
      "\n",
      "Community 0 (11 nodes):\n",
      "A priori and a posteriori, Albert Einstein, Code, Critique of Pure Reason, Force, Immanuel Kant, Learning, Philosophy of space and time, Rate (mathematics), Special relativity, Time\n",
      "\n",
      "Community 1 (14 nodes):\n",
      "Affect (psychology), Belief, Ceiling, Consciousness, Cost overrun, Decision-making, Emotion, Intuition, Phenomenology (psychology), Promotion and relegation, Psychological Types, Reality, Sentience, Spot-fixing\n",
      "\n",
      "Community 5 (11 nodes):\n",
      "Assembly language, Breakpoint, Debugger, In-circuit emulation, OS X, Patch (computing), Software, Software bug, Software testing, Tracing (software), Web application\n"
     ]
    }
   ],
   "source": [
    "# partition_sub: dict of only the kept nodes → community_id\n",
    "comm_members = defaultdict(list)\n",
    "for node, cid in partition_sub.items():\n",
    "    comm_members[cid].append(node)\n",
    "\n",
    "for cid, members in comm_members.items():\n",
    "    print(f\"\\nCommunity {cid} ({len(members)} nodes):\")\n",
    "    print(\", \".join(members))"
   ]
  },
  {
   "cell_type": "code",
   "execution_count": null,
   "id": "d333775f",
   "metadata": {},
   "outputs": [
    {
     "name": "stdout",
     "output_type": "stream",
     "text": [
      "\n",
      "Spectral Cluster 0 (28 concepts):\n",
      "A priori and a posteriori, Albert Einstein, Code, Critique of Pure Reason, Force, Immanuel Kant, Learning, Philosophy of space and time, Rate (mathematics), Special relativity, Time, Affect (psychology), Belief, Ceiling, Consciousness, Cost overrun, Decision-making, Emotion, Intuition, OS X, Patch (computing), Phenomenology (psychology), Promotion and relegation, Psychological Types, Reality, Sentience, Spot-fixing, Web application\n",
      "\n",
      "Spectral Cluster 1 (25 concepts):\n",
      "Affect (psychology), Belief, Ceiling, Consciousness, Cost overrun, Decision-making, Emotion, Intuition, Phenomenology (psychology), Promotion and relegation, Psychological Types, Reality, Sentience, Spot-fixing, A priori and a posteriori, Albert Einstein, Code, Critique of Pure Reason, Force, Immanuel Kant, Learning, Philosophy of space and time, Rate (mathematics), Special relativity, Time\n",
      "\n",
      "Spectral Cluster 5 (11 concepts):\n",
      "Assembly language, Breakpoint, Debugger, In-circuit emulation, OS X, Patch (computing), Software, Software bug, Software testing, Tracing (software), Web application\n",
      "\n",
      "Spectral Cluster 2 (8 concepts):\n",
      "Assembly language, Breakpoint, Debugger, In-circuit emulation, Software, Software bug, Software testing, Tracing (software)\n"
     ]
    },
    {
     "name": "stderr",
     "output_type": "stream",
     "text": [
      "c:\\Users\\britt\\source\\repos\\notebook-to-prod-template\\.venv\\Lib\\site-packages\\sklearn\\manifold\\_spectral_embedding.py:328: UserWarning:\n",
      "\n",
      "Graph is not fully connected, spectral embedding may not work as expected.\n",
      "\n"
     ]
    }
   ],
   "source": [
    "feat_names  # a list of all concepts in the same order as your affinity matrix\n",
    "large_nodes  # a list of the subset of those concepts you kept\n",
    "\n",
    "# Make a dense adjacency matrix\n",
    "affinity = nx.to_numpy_array(G, nodelist=feat_names)\n",
    "\n",
    "large_idxs = [feat_names.index(node) for node in large_nodes]\n",
    "\n",
    "# Suppose you DID prune to large_nodes before embedding:\n",
    "sub_affinity = affinity[np.ix_(large_idxs, large_idxs)]\n",
    "X_sub_emb = spectral_embedding(sub_affinity, n_components=3, random_state=42)\n",
    "labels_sub = KMeans(n_clusters=3, random_state=42).fit_predict(X_sub_emb)\n",
    "\n",
    "# Now map back:\n",
    "emb_partition = dict(zip(large_nodes, labels_sub))\n",
    "\n",
    "for node, cid in emb_partition.items():\n",
    "    comm_members[cid].append(node)\n",
    "\n",
    "for cid, members in comm_members.items():\n",
    "    print(f\"\\nSpectral Cluster {cid} ({len(members)} concepts):\")\n",
    "    print(\", \".join(members))"
   ]
  },
  {
   "cell_type": "code",
   "execution_count": 22,
   "id": "6924d3cb",
   "metadata": {},
   "outputs": [
    {
     "name": "stdout",
     "output_type": "stream",
     "text": [
      "\n",
      "Cluster 2 (98 concepts):\n",
      "A priori and a posteriori, Affect (psychology), Ageing, Albert Einstein, Answer, Aristotle, Assembly language, Automated online assistant, Belief, Breakpoint, Ceiling, Code, Complex reflection group, Computer, Computer science, Confidence trick, Consciousness, Corruption, Cost overrun, Critique of Pure Reason, Curiosity, Customer, Customer relationship management, Customer satisfaction, Customer service, Customer support, Day, Debugger, Decision-making, Electronic document, Emotion, Evoked potential, Externalism, Force, Form (document), Fundraising, Gottfried Wilhelm Leibniz, Home Alone, Human, Human voice, Immanuel Kant, In-circuit emulation, Interest (emotion), Interrogative, Intuition, Invisibility, Keep, Learning, Lecture, Lighting, Loaded question, Mandatory retirement, Meeting, Metaphysics, Motivation, Navigation, Night sky, Nocturne, OS X, Old age, Online community, Patch (computing), Pension, Phenomenology (psychology), Philosophy of space and time, Physics, Portable Document Format, Promotion and relegation, Psychological Types, Psychoneuroimmunology, Questioned document examination, Rate (mathematics), Reality, Retirement, Rhetorical question, Sales, Science, Sentience, Service (economics), Shift work, Sleep, Smile, Social Security (United States), Social Security Administration, Software, Software bug, Software release life cycle, Software testing, Special relativity, Spot-fixing, Statistics, Subject (documents), Teacher, Time, Time zone, Tracing (software), Universe, Web application\n",
      "\n",
      "Cluster 0 (31 concepts):\n",
      "Anxiety, Bundt cake, Cake decorating, Central business district, Chiffon cake, Chocolate cake, Comparison shopping website, Confusion, Context switch, Convenience store, Delivery (commerce), Department store, Economics of Christmas, Finance, Financial statement, Food storage, Friendship, Frustration, LaTeX, LuaTeX, MetaPost, PdfTeX, Report, Restaurant, Retail, Streusel, TeX, Torte, Typesetting, User (computing), XeTeX\n",
      "\n",
      "Cluster 1 (9 concepts):\n",
      "Flat racing, Mentorship, Physical exercise, Sprint, Sprint (cycling), Sprint Cup Series, Sprint car racing, The New Workout Plan, Woman\n"
     ]
    },
    {
     "data": {
      "image/png": "[encoded data removed]",
      "text/plain": [
       "<Figure size 600x600 with 1 Axes>"
      ]
     },
     "metadata": {},
     "output_type": "display_data"
    }
   ],
   "source": [
    "# partition_sub is node→community for your pruned graph, but\n",
    "# if you want the full spectral labels on the entire affinity:\n",
    "labels_emb = km.labels_  # from your KMeans on X_emb\n",
    "feat_names = sorted(df_concepts[\"concept\"].unique())\n",
    "\n",
    "# Map back label→concept\n",
    "emb_partition = dict(zip(feat_names, labels_emb))\n",
    "\n",
    "comms = defaultdict(list)\n",
    "for feat, cid in emb_partition.items():\n",
    "    comms[cid].append(feat)\n",
    "\n",
    "for cid, members in comms.items():\n",
    "    print(f\"\\nCluster {cid} ({len(members)} concepts):\")\n",
    "    print(\", \".join(members))\n",
    "\n",
    "\n",
    "fig = plt.figure(figsize=(6, 6))\n",
    "ax = fig.add_subplot(111, projection=\"3d\")\n",
    "xs, ys, zs = X_emb[:, 0], X_emb[:, 1], X_emb[:, 2]\n",
    "ax.scatter(xs, ys, zs, c=labels_emb, cmap=\"tab10\", s=50)\n",
    "ax.set_title(\"Spectral Embedding (k=3)\")\n",
    "plt.show()"
   ]
  },
  {
   "cell_type": "code",
   "execution_count": 23,
   "id": "7077649d",
   "metadata": {},
   "outputs": [
    {
     "name": "stderr",
     "output_type": "stream",
     "text": [
      "c:\\Users\\britt\\source\\repos\\notebook-to-prod-template\\.venv\\Lib\\site-packages\\sklearn\\manifold\\_spectral_embedding.py:328: UserWarning:\n",
      "\n",
      "Graph is not fully connected, spectral embedding may not work as expected.\n",
      "\n"
     ]
    },
    {
     "data": {
      "application/vnd.plotly.v1+json": {
       "config": {
        "plotlyServerURL": "https://plot.ly"
       },
       "data": [
        {
         "hovertemplate": "<b>%{hovertext}</b><br><br>cluster=1<br>x=%{x}<br>y=%{y}<br>z=%{z}<extra></extra>",
         "hovertext": [
          "A priori and a posteriori",
          "Albert Einstein",
          "Code",
          "Critique of Pure Reason",
          "Force",
          "Immanuel Kant",
          "Learning",
          "Philosophy of space and time",
          "Rate (mathematics)",
          "Special relativity",
          "Time"
         ],
         "legendgroup": "1",
         "marker": {
          "color": "#636efa",
          "symbol": "circle"
         },
         "mode": "markers",
         "name": "1",
         "scene": "scene",
         "showlegend": true,
         "type": "scatter3d",
         "x": {
          "bdata": "e97fCvOQuz9z3t8K85C7P3be3wrzkLs/c97fCvOQuz903t8K85C7P3fe3wrzkLs/dt7fCvOQuz923t8K85C7P3ne3wrzkLs/dt7fCvOQuz923t8K85C7Pw==",
          "dtype": "f8"
         },
         "y": {
          "bdata": "YQ9gQ/Beg7wJEP3QtwZfPEq9jjIMGnw8bUB6ffWxiDzFhgsYr4SJPLKKMKhJ0Ji8Qqj6bG7deDxsKBrlIDCAPMSaFJoYEHc8n32C/4AUfzw5HKBb8fGMPA==",
          "dtype": "f8"
         },
         "z": {
          "bdata": "gUY64LaJoLxIlAa1TmlHPMQ49B1s2YG85FTJuYSYizxconvzVMWFPMQaAgtw05y8OFewgbDWhTzADQWURLuLPLaB5GcBlpS8wuwSEZcVizwhu3J1d+KQvA==",
          "dtype": "f8"
         }
        },
        {
         "hovertemplate": "<b>%{hovertext}</b><br><br>cluster=0<br>x=%{x}<br>y=%{y}<br>z=%{z}<extra></extra>",
         "hovertext": [
          "Affect (psychology)",
          "Belief",
          "Ceiling",
          "Consciousness",
          "Cost overrun",
          "Decision-making",
          "Emotion",
          "Intuition",
          "OS X",
          "Patch (computing)",
          "Phenomenology (psychology)",
          "Promotion and relegation",
          "Psychological Types",
          "Reality",
          "Sentience",
          "Spot-fixing",
          "Web application"
         ],
         "legendgroup": "0",
         "marker": {
          "color": "#EF553B",
          "symbol": "circle"
         },
         "mode": "markers",
         "name": "0",
         "scene": "scene",
         "showlegend": true,
         "type": "scatter3d",
         "x": {
          "bdata": "l2INRz4Emr+YYg1HPgSav55iDUc+BJq/k2INRz4Emr9eYg1HPgSav55iDUc+BJq/h2INRz4Emr+QYg1HPgSav4JiDUc+BJq/i2INRz4Emr+MYg1HPgSav5NiDUc+BJq/jmINRz4Emr+cYg1HPgSav41iDUc+BJq/oWINRz4Emr+GYg1HPgSavw==",
          "dtype": "f8"
         },
         "y": {
          "bdata": "R9gNJpzTrr/G3mAg6zGtv7/eYCDrMa2/gmGLeIItr7+llsFht3Onv8LeYCDrMa2/ge7GYE5apr9J2A0mnNOuv9eabzPgi5A/6ZpvM+CLkD9S2A0mnNOuv4Rhi3iCLa+/TNgNJpzTrr+/3mAg6zGtv4dhi3iCLa+/wd5gIOsxrb/omm8z4IuQPw==",
          "dtype": "f8"
         },
         "z": {
          "bdata": "5MhNS2/LsL/PAB4eZIfFP80AHh5kh8U/bEQUXHy4sb8IzdKnGDWFP8wAHh5kh8U/w1O+kGwtgT/hyE1Lb8uwv6gOUnYwIX8/zQ5SdjAhfz/iyE1Lb8uwv2tEFFx8uLG/4MhNS2/LsL/LAB4eZIfFP29EFFx8uLG/zQAeHmSHxT/ADlJ2MCF/Pw==",
          "dtype": "f8"
         }
        },
        {
         "hovertemplate": "<b>%{hovertext}</b><br><br>cluster=2<br>x=%{x}<br>y=%{y}<br>z=%{z}<extra></extra>",
         "hovertext": [
          "Assembly language",
          "Breakpoint",
          "Debugger",
          "In-circuit emulation",
          "Software",
          "Software bug",
          "Software testing",
          "Tracing (software)"
         ],
         "legendgroup": "2",
         "marker": {
          "color": "#00cc96",
          "symbol": "circle"
         },
         "mode": "markers",
         "name": "2",
         "scene": "scene",
         "showlegend": true,
         "type": "scatter3d",
         "x": {
          "bdata": "dmINRz4Emr91Yg1HPgSav21iDUc+BJq/eGINRz4Emr9zYg1HPgSav3liDUc+BJq/cmINRz4Emr9yYg1HPgSavw==",
          "dtype": "f8"
         },
         "y": {
          "bdata": "4Co9KQ7Luz/kKj0pDsu7P98qPSkOy7s/3yo9KQ7Luz/Sr4NQi6yyP+QqPSkOy7s/4io9KQ7Luz/gKj0pDsu7Pw==",
          "dtype": "f8"
         },
         "z": {
          "bdata": "/aaY3Luyab8rppjcu7Jpv2qnmNy7smm/16aY3Luyab8PcjvwZ/hQP0mmmNy7smm/46aY3Luyab9Pp5jcu7Jpvw==",
          "dtype": "f8"
         }
        }
       ],
       "layout": {
        "legend": {
         "title": {
          "text": "cluster"
         },
         "tracegroupgap": 0
        },
        "scene": {
         "domain": {
          "x": [
           0,
           1
          ],
          "y": [
           0,
           1
          ]
         },
         "xaxis": {
          "title": {
           "text": "x"
          }
         },
         "yaxis": {
          "title": {
           "text": "y"
          }
         },
         "zaxis": {
          "title": {
           "text": "z"
          }
         }
        },
        "template": {
         "data": {
          "bar": [
           {
            "error_x": {
             "color": "#2a3f5f"
            },
            "error_y": {
             "color": "#2a3f5f"
            },
            "marker": {
             "line": {
              "color": "#E5ECF6",
              "width": 0.5
             },
             "pattern": {
              "fillmode": "overlay",
              "size": 10,
              "solidity": 0.2
             }
            },
            "type": "bar"
           }
          ],
          "barpolar": [
           {
            "marker": {
             "line": {
              "color": "#E5ECF6",
              "width": 0.5
             },
             "pattern": {
              "fillmode": "overlay",
              "size": 10,
              "solidity": 0.2
             }
            },
            "type": "barpolar"
           }
          ],
          "carpet": [
           {
            "aaxis": {
             "endlinecolor": "#2a3f5f",
             "gridcolor": "white",
             "linecolor": "white",
             "minorgridcolor": "white",
             "startlinecolor": "#2a3f5f"
            },
            "baxis": {
             "endlinecolor": "#2a3f5f",
             "gridcolor": "white",
             "linecolor": "white",
             "minorgridcolor": "white",
             "startlinecolor": "#2a3f5f"
            },
            "type": "carpet"
           }
          ],
          "choropleth": [
           {
            "colorbar": {
             "outlinewidth": 0,
             "ticks": ""
            },
            "type": "choropleth"
           }
          ],
          "contour": [
           {
            "colorbar": {
             "outlinewidth": 0,
             "ticks": ""
            },
            "colorscale": [
             [
              0,
              "#0d0887"
             ],
             [
              0.1111111111111111,
              "#46039f"
             ],
             [
              0.2222222222222222,
              "#7201a8"
             ],
             [
              0.3333333333333333,
              "#9c179e"
             ],
             [
              0.4444444444444444,
              "#bd3786"
             ],
             [
              0.5555555555555556,
              "#d8576b"
             ],
             [
              0.6666666666666666,
              "#ed7953"
             ],
             [
              0.7777777777777778,
              "#fb9f3a"
             ],
             [
              0.8888888888888888,
              "#fdca26"
             ],
             [
              1,
              "#f0f921"
             ]
            ],
            "type": "contour"
           }
          ],
          "contourcarpet": [
           {
            "colorbar": {
             "outlinewidth": 0,
             "ticks": ""
            },
            "type": "contourcarpet"
           }
          ],
          "heatmap": [
           {
            "colorbar": {
             "outlinewidth": 0,
             "ticks": ""
            },
            "colorscale": [
             [
              0,
              "#0d0887"
             ],
             [
              0.1111111111111111,
              "#46039f"
             ],
             [
              0.2222222222222222,
              "#7201a8"
             ],
             [
              0.3333333333333333,
              "#9c179e"
             ],
             [
              0.4444444444444444,
              "#bd3786"
             ],
             [
              0.5555555555555556,
              "#d8576b"
             ],
             [
              0.6666666666666666,
              "#ed7953"
             ],
             [
              0.7777777777777778,
              "#fb9f3a"
             ],
             [
              0.8888888888888888,
              "#fdca26"
             ],
             [
              1,
              "#f0f921"
             ]
            ],
            "type": "heatmap"
           }
          ],
          "histogram": [
           {
            "marker": {
             "pattern": {
              "fillmode": "overlay",
              "size": 10,
              "solidity": 0.2
             }
            },
            "type": "histogram"
           }
          ],
          "histogram2d": [
           {
            "colorbar": {
             "outlinewidth": 0,
             "ticks": ""
            },
            "colorscale": [
             [
              0,
              "#0d0887"
             ],
             [
              0.1111111111111111,
              "#46039f"
             ],
             [
              0.2222222222222222,
              "#7201a8"
             ],
             [
              0.3333333333333333,
              "#9c179e"
             ],
             [
              0.4444444444444444,
              "#bd3786"
             ],
             [
              0.5555555555555556,
              "#d8576b"
             ],
             [
              0.6666666666666666,
              "#ed7953"
             ],
             [
              0.7777777777777778,
              "#fb9f3a"
             ],
             [
              0.8888888888888888,
              "#fdca26"
             ],
             [
              1,
              "#f0f921"
             ]
            ],
            "type": "histogram2d"
           }
          ],
          "histogram2dcontour": [
           {
            "colorbar": {
             "outlinewidth": 0,
             "ticks": ""
            },
            "colorscale": [
             [
              0,
              "#0d0887"
             ],
             [
              0.1111111111111111,
              "#46039f"
             ],
             [
              0.2222222222222222,
              "#7201a8"
             ],
             [
              0.3333333333333333,
              "#9c179e"
             ],
             [
              0.4444444444444444,
              "#bd3786"
             ],
             [
              0.5555555555555556,
              "#d8576b"
             ],
             [
              0.6666666666666666,
              "#ed7953"
             ],
             [
              0.7777777777777778,
              "#fb9f3a"
             ],
             [
              0.8888888888888888,
              "#fdca26"
             ],
             [
              1,
              "#f0f921"
             ]
            ],
            "type": "histogram2dcontour"
           }
          ],
          "mesh3d": [
           {
            "colorbar": {
             "outlinewidth": 0,
             "ticks": ""
            },
            "type": "mesh3d"
           }
          ],
          "parcoords": [
           {
            "line": {
             "colorbar": {
              "outlinewidth": 0,
              "ticks": ""
             }
            },
            "type": "parcoords"
           }
          ],
          "pie": [
           {
            "automargin": true,
            "type": "pie"
           }
          ],
          "scatter": [
           {
            "fillpattern": {
             "fillmode": "overlay",
             "size": 10,
             "solidity": 0.2
            },
            "type": "scatter"
           }
          ],
          "scatter3d": [
           {
            "line": {
             "colorbar": {
              "outlinewidth": 0,
              "ticks": ""
             }
            },
            "marker": {
             "colorbar": {
              "outlinewidth": 0,
              "ticks": ""
             }
            },
            "type": "scatter3d"
           }
          ],
          "scattercarpet": [
           {
            "marker": {
             "colorbar": {
              "outlinewidth": 0,
              "ticks": ""
             }
            },
            "type": "scattercarpet"
           }
          ],
          "scattergeo": [
           {
            "marker": {
             "colorbar": {
              "outlinewidth": 0,
              "ticks": ""
             }
            },
            "type": "scattergeo"
           }
          ],
          "scattergl": [
           {
            "marker": {
             "colorbar": {
              "outlinewidth": 0,
              "ticks": ""
             }
            },
            "type": "scattergl"
           }
          ],
          "scattermap": [
           {
            "marker": {
             "colorbar": {
              "outlinewidth": 0,
              "ticks": ""
             }
            },
            "type": "scattermap"
           }
          ],
          "scattermapbox": [
           {
            "marker": {
             "colorbar": {
              "outlinewidth": 0,
              "ticks": ""
             }
            },
            "type": "scattermapbox"
           }
          ],
          "scatterpolar": [
           {
            "marker": {
             "colorbar": {
              "outlinewidth": 0,
              "ticks": ""
             }
            },
            "type": "scatterpolar"
           }
          ],
          "scatterpolargl": [
           {
            "marker": {
             "colorbar": {
              "outlinewidth": 0,
              "ticks": ""
             }
            },
            "type": "scatterpolargl"
           }
          ],
          "scatterternary": [
           {
            "marker": {
             "colorbar": {
              "outlinewidth": 0,
              "ticks": ""
             }
            },
            "type": "scatterternary"
           }
          ],
          "surface": [
           {
            "colorbar": {
             "outlinewidth": 0,
             "ticks": ""
            },
            "colorscale": [
             [
              0,
              "#0d0887"
             ],
             [
              0.1111111111111111,
              "#46039f"
             ],
             [
              0.2222222222222222,
              "#7201a8"
             ],
             [
              0.3333333333333333,
              "#9c179e"
             ],
             [
              0.4444444444444444,
              "#bd3786"
             ],
             [
              0.5555555555555556,
              "#d8576b"
             ],
             [
              0.6666666666666666,
              "#ed7953"
             ],
             [
              0.7777777777777778,
              "#fb9f3a"
             ],
             [
              0.8888888888888888,
              "#fdca26"
             ],
             [
              1,
              "#f0f921"
             ]
            ],
            "type": "surface"
           }
          ],
          "table": [
           {
            "cells": {
             "fill": {
              "color": "#EBF0F8"
             },
             "line": {
              "color": "white"
             }
            },
            "header": {
             "fill": {
              "color": "#C8D4E3"
             },
             "line": {
              "color": "white"
             }
            },
            "type": "table"
           }
          ]
         },
         "layout": {
          "annotationdefaults": {
           "arrowcolor": "#2a3f5f",
           "arrowhead": 0,
           "arrowwidth": 1
          },
          "autotypenumbers": "strict",
          "coloraxis": {
           "colorbar": {
            "outlinewidth": 0,
            "ticks": ""
           }
          },
          "colorscale": {
           "diverging": [
            [
             0,
             "#8e0152"
            ],
            [
             0.1,
             "#c51b7d"
            ],
            [
             0.2,
             "#de77ae"
            ],
            [
             0.3,
             "#f1b6da"
            ],
            [
             0.4,
             "#fde0ef"
            ],
            [
             0.5,
             "#f7f7f7"
            ],
            [
             0.6,
             "#e6f5d0"
            ],
            [
             0.7,
             "#b8e186"
            ],
            [
             0.8,
             "#7fbc41"
            ],
            [
             0.9,
             "#4d9221"
            ],
            [
             1,
             "#276419"
            ]
           ],
           "sequential": [
            [
             0,
             "#0d0887"
            ],
            [
             0.1111111111111111,
             "#46039f"
            ],
            [
             0.2222222222222222,
             "#7201a8"
            ],
            [
             0.3333333333333333,
             "#9c179e"
            ],
            [
             0.4444444444444444,
             "#bd3786"
            ],
            [
             0.5555555555555556,
             "#d8576b"
            ],
            [
             0.6666666666666666,
             "#ed7953"
            ],
            [
             0.7777777777777778,
             "#fb9f3a"
            ],
            [
             0.8888888888888888,
             "#fdca26"
            ],
            [
             1,
             "#f0f921"
            ]
           ],
           "sequentialminus": [
            [
             0,
             "#0d0887"
            ],
            [
             0.1111111111111111,
             "#46039f"
            ],
            [
             0.2222222222222222,
             "#7201a8"
            ],
            [
             0.3333333333333333,
             "#9c179e"
            ],
            [
             0.4444444444444444,
             "#bd3786"
            ],
            [
             0.5555555555555556,
             "#d8576b"
            ],
            [
             0.6666666666666666,
             "#ed7953"
            ],
            [
             0.7777777777777778,
             "#fb9f3a"
            ],
            [
             0.8888888888888888,
             "#fdca26"
            ],
            [
             1,
             "#f0f921"
            ]
           ]
          },
          "colorway": [
           "#636efa",
           "#EF553B",
           "#00cc96",
           "#ab63fa",
           "#FFA15A",
           "#19d3f3",
           "#FF6692",
           "#B6E880",
           "#FF97FF",
           "#FECB52"
          ],
          "font": {
           "color": "#2a3f5f"
          },
          "geo": {
           "bgcolor": "white",
           "lakecolor": "white",
           "landcolor": "#E5ECF6",
           "showlakes": true,
           "showland": true,
           "subunitcolor": "white"
          },
          "hoverlabel": {
           "align": "left"
          },
          "hovermode": "closest",
          "mapbox": {
           "style": "light"
          },
          "paper_bgcolor": "white",
          "plot_bgcolor": "#E5ECF6",
          "polar": {
           "angularaxis": {
            "gridcolor": "white",
            "linecolor": "white",
            "ticks": ""
           },
           "bgcolor": "#E5ECF6",
           "radialaxis": {
            "gridcolor": "white",
            "linecolor": "white",
            "ticks": ""
           }
          },
          "scene": {
           "xaxis": {
            "backgroundcolor": "#E5ECF6",
            "gridcolor": "white",
            "gridwidth": 2,
            "linecolor": "white",
            "showbackground": true,
            "ticks": "",
            "zerolinecolor": "white"
           },
           "yaxis": {
            "backgroundcolor": "#E5ECF6",
            "gridcolor": "white",
            "gridwidth": 2,
            "linecolor": "white",
            "showbackground": true,
            "ticks": "",
            "zerolinecolor": "white"
           },
           "zaxis": {
            "backgroundcolor": "#E5ECF6",
            "gridcolor": "white",
            "gridwidth": 2,
            "linecolor": "white",
            "showbackground": true,
            "ticks": "",
            "zerolinecolor": "white"
           }
          },
          "shapedefaults": {
           "line": {
            "color": "#2a3f5f"
           }
          },
          "ternary": {
           "aaxis": {
            "gridcolor": "white",
            "linecolor": "white",
            "ticks": ""
           },
           "baxis": {
            "gridcolor": "white",
            "linecolor": "white",
            "ticks": ""
           },
           "bgcolor": "#E5ECF6",
           "caxis": {
            "gridcolor": "white",
            "linecolor": "white",
            "ticks": ""
           }
          },
          "title": {
           "x": 0.05
          },
          "xaxis": {
           "automargin": true,
           "gridcolor": "white",
           "linecolor": "white",
           "ticks": "",
           "title": {
            "standoff": 15
           },
           "zerolinecolor": "white",
           "zerolinewidth": 2
          },
          "yaxis": {
           "automargin": true,
           "gridcolor": "white",
           "linecolor": "white",
           "ticks": "",
           "title": {
            "standoff": 15
           },
           "zerolinecolor": "white",
           "zerolinewidth": 2
          }
         }
        },
        "title": {
         "text": "Spectral Embedding (k=3)"
        }
       }
      }
     },
     "metadata": {},
     "output_type": "display_data"
    }
   ],
   "source": [
    "# X_sub_emb: your subgraph’s embedding of shape (n_nodes, 3)\n",
    "# large_nodes: list of those node names, same length as X_sub_emb\n",
    "# labels_emb: the k-means labels on X_sub_emb, length n_nodes\n",
    "\n",
    "# compute large_idxs so we slice the right rows/cols\n",
    "large_idxs = [feat_names.index(n) for n in large_nodes]\n",
    "\n",
    "sub_affinity = affinity[np.ix_(large_idxs, large_idxs)]\n",
    "X_sub_emb = spectral_embedding(sub_affinity, n_components=3, random_state=42)\n",
    "\n",
    "\n",
    "labels_sub = KMeans(n_clusters=3, random_state=42).fit_predict(X_sub_emb)\n",
    "# labels_sub now has length == len(large_nodes) == 36\n",
    "\n",
    "\n",
    "df3d = pd.DataFrame(\n",
    "    X_sub_emb,\n",
    "    columns=(\"x\", \"y\", \"z\"),\n",
    "    index=large_nodes,  # set the index to your node names\n",
    ")\n",
    "df3d[\"cluster\"] = labels_sub  # length matches the index now\n",
    "df3d[\"label\"] = df3d.index  # hover info\n",
    "\n",
    "\n",
    "df3d[\"cluster\"] = df3d[\"cluster\"].astype(str)\n",
    "\n",
    "fig = px.scatter_3d(\n",
    "    df3d,\n",
    "    x=\"x\",\n",
    "    y=\"y\",\n",
    "    z=\"z\",\n",
    "    color=\"cluster\",\n",
    "    hover_name=\"label\",\n",
    "    title=\"Spectral Embedding (k=3)\",\n",
    ")\n",
    "fig.show()"
   ]
  },
  {
   "cell_type": "code",
   "execution_count": null,
   "id": "3c96643f",
   "metadata": {},
   "outputs": [],
   "source": []
  },
  {
   "cell_type": "markdown",
   "id": "2ba0cd6a",
   "metadata": {},
   "source": [
    "---\n",
    "\n",
    "### 6.1 Building the Graph with NetworkX\n",
    "\n",
    "**Undirected**  \n",
    "An edge **(A, B)** is the same as **(B, A)**. You’re just counting **co-occurrence**, not directionality.\n",
    "\n",
    "**Weighted**  \n",
    "Each edge carries a numeric weight—how many documents the pair co-occurs in—which you can use to size or filter edges.\n",
    "\n",
    "---\n",
    "\n",
    "#### 🔀 Directed vs. Undirected\n",
    "\n",
    "| Aspect         | Undirected                        | Directed                                        |\n",
    "|----------------|-----------------------------------|--------------------------------------------------|\n",
    "| **Edge type**  | (A, B) = (B, A)                  | (A → B) and (B → A) are distinct                |\n",
    "| **When to use**| Pure co-occurrence, symmetric relation | Order matters (e.g. “A causes B,” “A precedes B”) |\n",
    "\n",
    "**Example Directed Use Cases:**\n",
    "- Temporal flow: *“first I felt anxious, then relieved”* → **anxious → relieved**  \n",
    "- Causal modeling: *emotion → behavior*\n",
    "\n",
    "Parameters in `build_semantic_graph(df_concepts, threshold=1, directed=False)`\n",
    "\n",
    "`threshold` (int): minimum co-occurrence count to include an edge.\n",
    "\n",
    "`directed` (bool): if `True`, returns an `nx.DiGraph` capturing sequence-based edges; if `False`, an undirected `nx.Graph`.\n",
    "\n",
    "\n",
    "---\n",
    "Once your graph is built, you can choose how to lay it out and style it.\n",
    "\n",
    "---\n"
   ]
  },
  {
   "cell_type": "code",
   "execution_count": null,
   "id": "93168ead",
   "metadata": {},
   "outputs": [
    {
     "data": {
      "text/html": [
       "<div>\n",
       "<style scoped>\n",
       "    .dataframe tbody tr th:only-of-type {\n",
       "        vertical-align: middle;\n",
       "    }\n",
       "\n",
       "    .dataframe tbody tr th {\n",
       "        vertical-align: top;\n",
       "    }\n",
       "\n",
       "    .dataframe thead th {\n",
       "        text-align: right;\n",
       "    }\n",
       "</style>\n",
       "<table border=\"1\" class=\"dataframe\">\n",
       "  <thead>\n",
       "    <tr style=\"text-align: right;\">\n",
       "      <th></th>\n",
       "      <th>Concept A</th>\n",
       "      <th>Concept B</th>\n",
       "      <th>Count</th>\n",
       "    </tr>\n",
       "  </thead>\n",
       "  <tbody>\n",
       "    <tr>\n",
       "      <th>0</th>\n",
       "      <td>Affect (psychology)</td>\n",
       "      <td>Emotion</td>\n",
       "      <td>2</td>\n",
       "    </tr>\n",
       "    <tr>\n",
       "      <th>1</th>\n",
       "      <td>Affect (psychology)</td>\n",
       "      <td>Intuition</td>\n",
       "      <td>2</td>\n",
       "    </tr>\n",
       "    <tr>\n",
       "      <th>2</th>\n",
       "      <td>Affect (psychology)</td>\n",
       "      <td>Phenomenology (psychology)</td>\n",
       "      <td>2</td>\n",
       "    </tr>\n",
       "    <tr>\n",
       "      <th>3</th>\n",
       "      <td>Affect (psychology)</td>\n",
       "      <td>Psychological Types</td>\n",
       "      <td>2</td>\n",
       "    </tr>\n",
       "    <tr>\n",
       "      <th>4</th>\n",
       "      <td>Code</td>\n",
       "      <td>Time</td>\n",
       "      <td>2</td>\n",
       "    </tr>\n",
       "    <tr>\n",
       "      <th>5</th>\n",
       "      <td>Emotion</td>\n",
       "      <td>Intuition</td>\n",
       "      <td>2</td>\n",
       "    </tr>\n",
       "    <tr>\n",
       "      <th>6</th>\n",
       "      <td>Emotion</td>\n",
       "      <td>Phenomenology (psychology)</td>\n",
       "      <td>2</td>\n",
       "    </tr>\n",
       "    <tr>\n",
       "      <th>7</th>\n",
       "      <td>Emotion</td>\n",
       "      <td>Psychological Types</td>\n",
       "      <td>2</td>\n",
       "    </tr>\n",
       "    <tr>\n",
       "      <th>8</th>\n",
       "      <td>Intuition</td>\n",
       "      <td>Phenomenology (psychology)</td>\n",
       "      <td>2</td>\n",
       "    </tr>\n",
       "    <tr>\n",
       "      <th>9</th>\n",
       "      <td>Intuition</td>\n",
       "      <td>Psychological Types</td>\n",
       "      <td>2</td>\n",
       "    </tr>\n",
       "  </tbody>\n",
       "</table>\n",
       "</div>"
      ],
      "text/plain": [
       "             Concept A                   Concept B  Count\n",
       "0  Affect (psychology)                     Emotion      2\n",
       "1  Affect (psychology)                   Intuition      2\n",
       "2  Affect (psychology)  Phenomenology (psychology)      2\n",
       "3  Affect (psychology)         Psychological Types      2\n",
       "4                 Code                        Time      2\n",
       "5              Emotion                   Intuition      2\n",
       "6              Emotion  Phenomenology (psychology)      2\n",
       "7              Emotion         Psychological Types      2\n",
       "8            Intuition  Phenomenology (psychology)      2\n",
       "9            Intuition         Psychological Types      2"
      ]
     },
     "execution_count": 17,
     "metadata": {},
     "output_type": "execute_result"
    }
   ],
   "source": [
    "# directed\n",
    "G_dir = build_semantic_graph(df_concepts, threshold=2, directed=True)\n",
    "\n",
    "# compute centrality\n",
    "G_dir_metrics = compute_centrality(G_dir)  # e.g. degree\n",
    "# metrics is a dict { node: degree_centrality }\n",
    "\n",
    "# detect communities\n",
    "G_dir_comm_sets = detect_communities(G_dir)  # list of sets\n",
    "\n",
    "# comm_sets is a list of sets, where each set contains nodes\n",
    "# in the same community\n",
    "G_dir_comm_map = node_to_community_map(\n",
    "    G_dir_comm_sets\n",
    ")  # flatten to {node:community_id}\n",
    "\n",
    "# peek at the very top co-occurrences\n",
    "G_dir_top_pairs = sorted(edges, key=lambda e: e[2], reverse=True)[:10]\n",
    "\n",
    "directed_pairs = pd.DataFrame(\n",
    "    G_dir_top_pairs, columns=[\"Concept A\", \"Concept B\", \"Count\"]\n",
    ")\n",
    "directed_pairs"
   ]
  },
  {
   "cell_type": "markdown",
   "id": "d49e56ec",
   "metadata": {},
   "source": [
    "### 6.2 Visualizing the Graph\n",
    "\n",
    "---\n",
    "\n",
    "#### Edge Weights\n",
    "* Continuous weights: feed directly into NetworkX algorithms (`betweenness_centrality(weight=\"weight\")`, etc.)\n",
    "\n",
    "* Thresholding: hide edges with `weight < threshold` to reduce noise\n",
    "\n",
    "Normalization: post-process `C` if you need to compare across corpora of different sizes\n",
    "\n",
    "🎚 Controlled by `threshold` in build and in `visualize_graph` by `edge_threshold` (drop low-weight edges) and `edge_width_scale` (line-width = weight × scale).\n",
    "\n",
    "\n",
    "---\n",
    "\n",
    "#### Labels\n",
    "\n",
    "- **Node labels**: concept names — toggle via `node_labels=True/False`\n",
    "- **Edge labels**: numeric weight annotations — toggle via show_edge_labels=True/False\n",
    "\n",
    "\n",
    "---\n",
    "\n",
    "#### Layouts\n",
    "\n",
    "> The `layout` and `layout_kwargs` parameters let you choose from:\n",
    "> - spring layout\n",
    "> - Kamada–Kawai\n",
    "> - circular\n",
    "> - custom coordinate layouts  \n",
    "> … and fine-tune their appearance.\n",
    "\n",
    "---\n",
    "\n",
    "#### Coloring & Sizing \n",
    "\n",
    "> `metrics` (dict): pre-computed values (e.g. degree, betweenness)  \n",
    "> `node_size_by` (\"degree\", \"betweenness\" or None)  \n",
    "> `size_scale` (float): multiplier for node sizes  \n",
    "> `comm_map` (dict): maps each node → community index  \n",
    "> `node_color_by` (\"community\" or name of metric)  \n",
    "> `cmap` (string): matplotlib colormap  \n",
    "Color encodes categories (communities) or continuous scores (centrality, emotion, function).\n",
    "---\n",
    "\n",
    "####  Putting It All Together\n",
    "\n",
    "| Graph Type            | When to Use                                                         |\n",
    "|-----------------------|---------------------------------------------------------------------|\n",
    "| **Undirected + Weighted** | For symmetric co-occurrence—strength of conceptual link        |\n",
    "| **Directed + Weighted**   | When order or dependency matters (e.g. cause-effect, timeline) |\n",
    "\n",
    "By selectively combining structure, weight, layout, and styling, your semantic network becomes a lens into how concepts emerge and interact across your corpus.\n"
   ]
  }
 ],
 "metadata": {
  "kernelspec": {
   "display_name": "Python (notebook-env)",
   "language": "python",
   "name": "notebook-env"
  },
  "language_info": {
   "codemirror_mode": {
    "name": "ipython",
    "version": 3
   },
   "file_extension": ".py",
   "mimetype": "text/x-python",
   "name": "python",
   "nbconvert_exporter": "python",
   "pygments_lexer": "ipython3",
   "version": "3.13.3"
  }
 },
 "nbformat": 4,
 "nbformat_minor": 5
}
