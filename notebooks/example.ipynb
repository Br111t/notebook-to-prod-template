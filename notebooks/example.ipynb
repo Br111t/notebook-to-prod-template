{
 "cells": [
  {
   "cell_type": "markdown",
   "id": "0fbba065",
   "metadata": {},
   "source": [
    "#  Table of Contents\n",
    "\n",
    "1. [Introduction](#1-introduction)\n",
    "    * 1.1 What the notebook covers\n",
    "    * 1.2 Why this topic/project matters\n",
    "2. [Background](#2-background)\n",
    "    * 2.1 Brief on graphs and semantic networks\n",
    "    * 2.2 Contextual link to Jakobson’s model and emotional triggers (optional but powerful for narrative)\n",
    "    * 2.3 Any relevant problem framing (e.g., NLP or emotion modeling motivation)\n",
    "3. [Objectives](#3-objectives)\n",
    "    * 3.1 What you aim to demonstrate\n",
    "    * 3.2 Expected outcomes of the analysis\n",
    "4. [Setup](#4-setup)\n",
    "    * 4.1 Install/import libraries\n",
    "    * 4.2 Load and preview data\n",
    "5. [Preprocessing](#5-preprocessing)\n",
    "    * 5.1 Data cleaning, NLP (concept extraction, emotion tagging)\n",
    "    * 5.2 Construction of nodes and edges\n",
    "    * 5.3 Create initial DataFrames or dictionaries\n",
    "6. [Graph Construction](#6-graph-construction)\n",
    "    * 6.1 Building the graph using NetworkX\n",
    "    * 6.2 Directed vs undirected, weights, labels, etc.\n",
    "    * 6.3 Visualizations (basic layout, color by emotion or function)\n",
    "7. [Graph Analysis](#7-graph-analysis)\n",
    "    * 7.1 Centrality, clustering, shortest path, connected components\n",
    "    * 7.2 Subgraph exploration (e.g., emotion-specific clusters)\n",
    "8. [Advanced Visualization](#8-advanced-visualization)\n",
    "    * 8.1 Using pyvis, Plotly, or improved NetworkX visualizations\n",
    "    * 8.2 Interactive graph options if desired\n",
    "9. [Insights & Interpretation](#9-insights--interpretation)\n",
    "    * 9.1 What the graph tells you about emotional triggers, semantic structure, or Jakobsonian functions\n",
    "    * 9.2 Highlight surprising or significant findings\n",
    "10. [Conclusion](#10-conclusion)\n",
    "    * 10.1 Summary of learnings\n",
    "    * 10.2 Next steps or extensions\n",
    "11. [Appendix (Optional)](#11-appendix-optional)\n",
    "    * 11.1 Notes on concept embeddings, model details, references\n",
    "    * 11.2 Runtime notes, parameter tweaks, etc."
   ]
  },
  {
   "cell_type": "markdown",
   "id": "5b196886",
   "metadata": {},
   "source": [
    "### 1. Introduction\n",
    "\n",
    "        1.1 What the notebook covers\n",
    "\n",
    "\n",
    "        1.2 Why this topic/project matters\n",
    "\n",
    "\n",
    "\n",
    "\n",
    "\n"
   ]
  },
  {
   "cell_type": "markdown",
   "id": "7797ab7c",
   "metadata": {},
   "source": [
    "### 2. Background\n",
    "\n",
    "\n",
    "        2.1 Brief on graphs and semantic networks\n",
    "    \n",
    "    \n",
    "    \n",
    "        2.2 Contextual link to Jakobson’s model and emotional triggers (optional but powerful for narrative)\n",
    "    \n",
    "    \n",
    "    \n",
    "    \n",
    "        2.3 Any relevant problem framing (e.g., NLP or emotion modeling motivation)"
   ]
  },
  {
   "cell_type": "markdown",
   "id": "174d43fc",
   "metadata": {},
   "source": [
    "### 3. Objectives\n",
    "\n",
    "\n",
    "        3.1 What you aim to demonstrate\n",
    "\n",
    "\n",
    "        3.2 Expected outcomes of the analysis"
   ]
  },
  {
   "cell_type": "markdown",
   "id": "037c7ebe",
   "metadata": {},
   "source": [
    "### 4. Setup\n",
    "\n",
    "        4.1 Install/import libraries"
   ]
  },
  {
   "cell_type": "code",
   "execution_count": 2,
   "id": "2faede02",
   "metadata": {},
   "outputs": [],
   "source": [
    "from notebook_service.cli import analyze_df\n",
    "import pandas as pd"
   ]
  },
  {
   "cell_type": "markdown",
   "id": "c59673fa",
   "metadata": {},
   "source": [
    "        4.2 Load and preview data"
   ]
  },
  {
   "cell_type": "code",
   "execution_count": 3,
   "id": "c09e1c08",
   "metadata": {},
   "outputs": [
    {
     "data": {
      "text/html": [
       "<div>\n",
       "<style scoped>\n",
       "    .dataframe tbody tr th:only-of-type {\n",
       "        vertical-align: middle;\n",
       "    }\n",
       "\n",
       "    .dataframe tbody tr th {\n",
       "        vertical-align: top;\n",
       "    }\n",
       "\n",
       "    .dataframe thead th {\n",
       "        text-align: right;\n",
       "    }\n",
       "</style>\n",
       "<table border=\"1\" class=\"dataframe\">\n",
       "  <thead>\n",
       "    <tr style=\"text-align: right;\">\n",
       "      <th></th>\n",
       "      <th>entries</th>\n",
       "      <th>sadness</th>\n",
       "      <th>joy</th>\n",
       "      <th>fear</th>\n",
       "      <th>disgust</th>\n",
       "      <th>anger</th>\n",
       "      <th>concepts</th>\n",
       "      <th>semantic_roles</th>\n",
       "    </tr>\n",
       "  </thead>\n",
       "  <tbody>\n",
       "    <tr>\n",
       "      <th>0</th>\n",
       "      <td>I felt anxious today, so I impulsively ordered...</td>\n",
       "      <td>0.332842</td>\n",
       "      <td>0.049939</td>\n",
       "      <td>0.104065</td>\n",
       "      <td>0.005845</td>\n",
       "      <td>0.212283</td>\n",
       "      <td>[Delivery (commerce), Anxiety, Restaurant, Foo...</td>\n",
       "      <td>[(I, felt, anxious), (I, ordered, food delivery)]</td>\n",
       "    </tr>\n",
       "    <tr>\n",
       "      <th>1</th>\n",
       "      <td>After my promotion, I confidently adjusted my ...</td>\n",
       "      <td>0.074566</td>\n",
       "      <td>0.334086</td>\n",
       "      <td>0.117670</td>\n",
       "      <td>0.033797</td>\n",
       "      <td>0.014482</td>\n",
       "      <td>[Retirement, Fundraising, Ageing, Old age, Soc...</td>\n",
       "      <td>[(I, adjusted, my retirement contributions)]</td>\n",
       "    </tr>\n",
       "    <tr>\n",
       "      <th>2</th>\n",
       "      <td>Stress led me to overspend on shopping yesterday.</td>\n",
       "      <td>0.665364</td>\n",
       "      <td>0.122717</td>\n",
       "      <td>0.186756</td>\n",
       "      <td>0.003421</td>\n",
       "      <td>0.029566</td>\n",
       "      <td>[Light-emitting diode, Retail, Comparison shop...</td>\n",
       "      <td>[(Stress, led, me)]</td>\n",
       "    </tr>\n",
       "    <tr>\n",
       "      <th>3</th>\n",
       "      <td>Today was incredibly frustrating; I spent hour...</td>\n",
       "      <td>0.246144</td>\n",
       "      <td>0.081976</td>\n",
       "      <td>0.028637</td>\n",
       "      <td>0.018688</td>\n",
       "      <td>0.129494</td>\n",
       "      <td>[Breakpoint, Debugger, In-circuit emulation, T...</td>\n",
       "      <td>[(Today, was, frustrating; I spent hours debug...</td>\n",
       "    </tr>\n",
       "    <tr>\n",
       "      <th>4</th>\n",
       "      <td>Our sprint demo went perfectly—I’m feeling pro...</td>\n",
       "      <td>0.482779</td>\n",
       "      <td>0.598429</td>\n",
       "      <td>0.011331</td>\n",
       "      <td>0.011596</td>\n",
       "      <td>0.010271</td>\n",
       "      <td>[Sprint, Sprint (cycling), Flat racing, Sprint...</td>\n",
       "      <td>[(Our sprint demo, went, ), (I, ’m feeling, pr...</td>\n",
       "    </tr>\n",
       "  </tbody>\n",
       "</table>\n",
       "</div>"
      ],
      "text/plain": [
       "                                             entries   sadness       joy  \\\n",
       "0  I felt anxious today, so I impulsively ordered...  0.332842  0.049939   \n",
       "1  After my promotion, I confidently adjusted my ...  0.074566  0.334086   \n",
       "2  Stress led me to overspend on shopping yesterday.  0.665364  0.122717   \n",
       "3  Today was incredibly frustrating; I spent hour...  0.246144  0.081976   \n",
       "4  Our sprint demo went perfectly—I’m feeling pro...  0.482779  0.598429   \n",
       "\n",
       "       fear   disgust     anger  \\\n",
       "0  0.104065  0.005845  0.212283   \n",
       "1  0.117670  0.033797  0.014482   \n",
       "2  0.186756  0.003421  0.029566   \n",
       "3  0.028637  0.018688  0.129494   \n",
       "4  0.011331  0.011596  0.010271   \n",
       "\n",
       "                                            concepts  \\\n",
       "0  [Delivery (commerce), Anxiety, Restaurant, Foo...   \n",
       "1  [Retirement, Fundraising, Ageing, Old age, Soc...   \n",
       "2  [Light-emitting diode, Retail, Comparison shop...   \n",
       "3  [Breakpoint, Debugger, In-circuit emulation, T...   \n",
       "4  [Sprint, Sprint (cycling), Flat racing, Sprint...   \n",
       "\n",
       "                                      semantic_roles  \n",
       "0  [(I, felt, anxious), (I, ordered, food delivery)]  \n",
       "1       [(I, adjusted, my retirement contributions)]  \n",
       "2                                [(Stress, led, me)]  \n",
       "3  [(Today, was, frustrating; I spent hours debug...  \n",
       "4  [(Our sprint demo, went, ), (I, ’m feeling, pr...  "
      ]
     },
     "execution_count": 3,
     "metadata": {},
     "output_type": "execute_result"
    }
   ],
   "source": [
    "df = pd.read_csv(\"../data/input.csv\")\n",
    "nlu_df = analyze_df(df, text_column=\"entries\")\n",
    "nlu_df.head()"
   ]
  },
  {
   "cell_type": "markdown",
   "id": "193e0278",
   "metadata": {},
   "source": [
    "### 5. Preprocessing\n",
    "\n",
    "        5.1 Data cleaning, NLP (concept extraction, emotion tagging)"
   ]
  },
  {
   "cell_type": "code",
   "execution_count": 4,
   "id": "e0b39495",
   "metadata": {},
   "outputs": [
    {
     "data": {
      "text/plain": [
       "0                                                                                        [Delivery (commerce), Anxiety, Restaurant, Food storage, Homburg (hat), Fedora, Valenki, Bowler hat]\n",
       "1                                                  [Retirement, Fundraising, Ageing, Old age, Social Security (United States), Mandatory retirement, Pension, Social Security Administration]\n",
       "2                  [Light-emitting diode, Retail, Comparison shopping website, Convenience store, Economics of Christmas, Department store, Central business district, Periodical literature]\n",
       "3                                                               [Breakpoint, Debugger, In-circuit emulation, Tracing (software), Assembly language, Software bug, Software testing, Software]\n",
       "4                                                        [Sprint, Sprint (cycling), Flat racing, Sprint car racing, Sprint Cup Series, Sprint Corporation, Eastern Sprints, Sprint (missile)]\n",
       "5                                                                                                                  [TeX, LuaTeX, XeTeX, LaTeX, MetaPost, PdfTeX, Context switch, Typesetting]\n",
       "6                                                                                                         [Sleep, Tent, Ghost, Time zone, Industrial Revolution, Lighting, Nomad, Bowler hat]\n",
       "7                                              [Physical exercise, Reebok, Masters swimming, Carlin Isles, Derrick Evans, Heartland Wrestling Association, Debbie Rush, The New Workout Plan]\n",
       "8                              [Emotion, Kui Yuanyuan, Battle of Cajamarca, Intentionally blank page, Peregrina (telenovela), Rickrolling, Cost overrun, Tales of the Unexpected (TV series)]\n",
       "9                                                                    [Frustration, Financial statement, Finance, Report, Ansel Adams, Comfort noise, English Baroque, The Baltimore Examiner]\n",
       "10                                                               [Patch (computing), OS X, Emotion, Turn on the Bright Lights, Software, Web application, The Headies 2012, Punchline (band)]\n",
       "11                                                                                                                                     [Wiki, User (computing), Anxiety, Confusion, Holocene]\n",
       "12                                                 [Mean, Does (band), CHARGE syndrome, VACTERL association, Etiology (medicine), Root mean square, Probability density function, Statistics]\n",
       "13                                                            [Interrogative, Answer, Loaded question, Rhetorical question, Ruger No. 1, Victor Schertzinger, Ellen Corby, Jaishankar Prasad]\n",
       "14                                                    [Learning, Human voice, Del Taco, Joy buzzer, Shakes the Clown, Metal fume fever, Abbott Laboratories, The Wind That Shakes the Barley]\n",
       "15                                                                                            [Interest (emotion), Aristotle, Emotion, Motivation, Keep, Curiosity, Curiosity (rover), Human]\n",
       "16                                                                  [Code, Learning, Special relativity, Albert Einstein, Force, Philosophy of space and time, Critique of Pure Reason, Time]\n",
       "17                                                        [Code, Night sky, Teacher, Crassulacean acid metabolism, Confidence trick, Police raid, Who Dares Wins (TV series), Red-eye flight]\n",
       "18                                   [Meeting, Invisibility, Online community, Complex reflection group, Lucky Star (1929 film), Crash reporter, Hindenburgdamm, Software release life cycle]\n",
       "19                                   [Code, Monte Sano Mountain, Mystic Valley Parkway, U.S. Route 250 in Virginia, Fermat's principle, Dharmachakra, Buddhist philosophy, Secretory pathway]\n",
       "20              [Human voice, Subject (documents), Electronic document, Portable Document Format, Shipping list, Questioned document examination, Manifest (transportation), Form (document)]\n",
       "21                                                                             [Mentorship, Woman, Come Organisation, Come (American band), Come (Prince album), Craps, Say You Will (album)]\n",
       "22                                                                                                  [Decision-making, Belief, Spot-fixing, Ceiling, The Bugaboos, Reality, Emotion, Religion]\n",
       "23                                                                   [Code, Time, Measuring instrument, Measurement, A priori and a posteriori, Cam timer, Immanuel Kant, Rate (mathematics)]\n",
       "24                                                                               [Science, Computer science, Computer, Physics, Gottfried Wilhelm Leibniz, Navigation, Universe, Metaphysics]\n",
       "25                                             [Promotion and relegation, Affect (psychology), Consciousness, Emotion, Sentience, Intuition, Psychological Types, Phenomenology (psychology)]\n",
       "26                                                             [Melville House Publishing, Smile, Illinois, Kurt Vonnegut, George Plimpton, Wicker Park, Chicago, Magazine, Slate (magazine)]\n",
       "27                                                                                           [Friendship, Rights, Cake decorating, Streusel, Bundt cake, Chocolate cake, Chiffon cake, Torte]\n",
       "28                                             [Friendship, Cameron Diaz, Dermot Mulroney, Unconditional Love (film), I Was a Sixth Grade Alien, Rupert Everett, Kate Nash, The Cars (album)]\n",
       "29    [Forging, Lost (TV series), Lost (Michael Bublé song), Sulfur mustard, Mayday (TV series), Killswitch Engage (2009 album), One of the Boys (Katy Perry album), Lost (Frank Ocean song)]\n",
       "30               [Miss You Like Crazy, David Miller (director), I Want to Be a Cowboy's Sweetheart, Affect (psychology), Psychological Types, Phenomenology (psychology), Intuition, Emotion]\n",
       "31                            [Customer service, Customer, Customer relationship management, Automated online assistant, Customer satisfaction, Customer support, Sales, Service (economics)]\n",
       "32                                                                                     [Shift work, Corruption, Clubbing (subculture), Starlight, Day, Night sky, Nocturne, 110 in the Shade]\n",
       "33                            [Evoked potential, Lecture, Santiago Álvarez (filmmaker), Neurogenic bladder dysfunction, Externalism, Sigma-1 receptor, Celiac ganglia, Psychoneuroimmunology]\n",
       "34                                                    [Home Alone, Gerry Bamman, Angela Goethals, Daniel Stern (actor), Kieran Culkin, Roberts Blossom, Ken Hudson Campbell, Macaulay Culkin]\n",
       "35                                                 [Pet Shop Boys, Rent (song), Tessa Niles, Please (Pet Shop Boys album), Twist in My Sobriety, Losing My Mind, Carol Kenyon, Andy Richards]\n",
       "Name: concepts, dtype: object"
      ]
     },
     "execution_count": 4,
     "metadata": {},
     "output_type": "execute_result"
    }
   ],
   "source": [
    "concepts = nlu_df[\"concepts\"]\n",
    "pd.set_option(\"display.max_colwidth\", None)\n",
    "concepts"
   ]
  },
  {
   "cell_type": "markdown",
   "id": "c714bd5b",
   "metadata": {},
   "source": [
    "        5.2 Construction of nodes and edges"
   ]
  },
  {
   "cell_type": "code",
   "execution_count": null,
   "id": "03ec3726",
   "metadata": {},
   "outputs": [],
   "source": []
  },
  {
   "cell_type": "markdown",
   "id": "f8dd457c",
   "metadata": {},
   "source": [
    "        5.3 Create initial DataFrames or dictionaries"
   ]
  },
  {
   "cell_type": "markdown",
   "id": "0445eb06",
   "metadata": {},
   "source": []
  }
 ],
 "metadata": {
  "kernelspec": {
   "display_name": "Python (notebook-env)",
   "language": "python",
   "name": "notebook-env"
  },
  "language_info": {
   "codemirror_mode": {
    "name": "ipython",
    "version": 3
   },
   "file_extension": ".py",
   "mimetype": "text/x-python",
   "name": "python",
   "nbconvert_exporter": "python",
   "pygments_lexer": "ipython3",
   "version": "3.13.3"
  }
 },
 "nbformat": 4,
 "nbformat_minor": 5
}
