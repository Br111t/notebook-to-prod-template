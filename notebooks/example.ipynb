{
 "cells": [
  {
   "cell_type": "markdown",
   "id": "0fbba065",
   "metadata": {},
   "source": [
    "#  Table of Contents\n",
    "\n",
    "1. [Introduction](#1-introduction)\n",
    "    * 1.1 What the notebook covers\n",
    "    * 1.2 Why this topic/project matters\n",
    "2. [Background](#2-background)\n",
    "    * 2.1 Brief on graphs and semantic networks\n",
    "    * 2.2 Contextual link to Jakobson’s model and emotional triggers (optional but powerful for narrative)\n",
    "    * 2.3 Any relevant problem framing (e.g., NLP or emotion modeling motivation)\n",
    "3. [Objectives](#3-objectives)\n",
    "    * 3.1 What you aim to demonstrate\n",
    "    * 3.2 Expected outcomes of the analysis\n",
    "4. [Setup](#4-setup)\n",
    "    * 4.1 Install/import libraries\n",
    "    * 4.2 Load and preview data\n",
    "5. [Preprocessing](#5-preprocessing)\n",
    "    * 5.1 Data cleaning, NLP (concept extraction, emotion tagging)\n",
    "    * 5.2 Construction of nodes and edges\n",
    "    * 5.3 Create initial DataFrames or dictionaries\n",
    "6. [Graph Construction](#6-graph-construction)\n",
    "    * 6.1 Building the graph using NetworkX\n",
    "    * 6.2 Directed vs undirected, weights, labels, etc.\n",
    "    * 6.3 Visualizations (basic layout, color by emotion or function)\n",
    "7. [Graph Analysis](#7-graph-analysis)\n",
    "    * 7.1 Centrality, clustering, shortest path, connected components\n",
    "    * 7.2 Subgraph exploration (e.g., emotion-specific clusters)\n",
    "8. [Advanced Visualization](#8-advanced-visualization)\n",
    "    * 8.1 Using pyvis, Plotly, or improved NetworkX visualizations\n",
    "    * 8.2 Interactive graph options if desired\n",
    "9. [Insights & Interpretation](#9-insights--interpretation)\n",
    "    * 9.1 What the graph tells you about emotional triggers, semantic structure, or Jakobsonian functions\n",
    "    * 9.2 Highlight surprising or significant findings\n",
    "10. [Conclusion](#10-conclusion)\n",
    "    * 10.1 Summary of learnings\n",
    "    * 10.2 Next steps or extensions\n",
    "11. [Appendix (Optional)](#11-appendix-optional)\n",
    "    * 11.1 Notes on concept embeddings, model details, references\n",
    "    * 11.2 Runtime notes, parameter tweaks, etc."
   ]
  },
  {
   "cell_type": "markdown",
   "id": "5b196886",
   "metadata": {},
   "source": [
    "### 1. Introduction\n",
    "\n",
    "        1.1 What the notebook covers\n",
    "\n",
    "\n",
    "        1.2 Why this topic/project matters\n",
    "\n",
    "\n",
    "\n",
    "\n",
    "\n"
   ]
  },
  {
   "cell_type": "markdown",
   "id": "7797ab7c",
   "metadata": {},
   "source": [
    "### 2. Background\n",
    "\n",
    "\n",
    "        2.1 Brief on graphs and semantic networks\n",
    "    \n",
    "    \n",
    "    \n",
    "        2.2 Contextual link to Jakobson’s model and emotional triggers (optional but powerful for narrative)\n",
    "    \n",
    "    \n",
    "    \n",
    "    \n",
    "        2.3 Any relevant problem framing (e.g., NLP or emotion modeling motivation)"
   ]
  },
  {
   "cell_type": "markdown",
   "id": "174d43fc",
   "metadata": {},
   "source": [
    "### 3. Objectives\n",
    "\n",
    "\n",
    "        3.1 What you aim to demonstrate\n",
    "\n",
    "\n",
    "        3.2 Expected outcomes of the analysis"
   ]
  },
  {
   "cell_type": "markdown",
   "id": "037c7ebe",
   "metadata": {},
   "source": [
    "### 4. Setup\n",
    "\n",
    "        4.1 Install/import libraries"
   ]
  },
  {
   "cell_type": "code",
   "execution_count": 1,
   "id": "4dda97b7",
   "metadata": {},
   "outputs": [
    {
     "name": "stdout",
     "output_type": "stream",
     "text": [
      "Obtaining file:///C:/Users/britt/source/repos/notebook-to-prod-template\n",
      "  Installing build dependencies: started\n",
      "  Installing build dependencies: finished with status 'done'\n",
      "  Checking if build backend supports build_editable: started\n",
      "  Checking if build backend supports build_editable: finished with status 'done'\n",
      "  Getting requirements to build editable: started\n",
      "  Getting requirements to build editable: finished with status 'done'\n",
      "  Preparing editable metadata (pyproject.toml): started\n",
      "  Preparing editable metadata (pyproject.toml): finished with status 'done'\n",
      "Requirement already satisfied: fastapi==0.115.13 in c:\\users\\britt\\source\\repos\\notebook-to-prod-template\\.venv\\lib\\site-packages (from fastapi[standard]==0.115.13->notebook-to-prod-template==0.1.0) (0.115.13)\n",
      "Requirement already satisfied: uvicorn==0.34.3 in c:\\users\\britt\\source\\repos\\notebook-to-prod-template\\.venv\\lib\\site-packages (from uvicorn[standard]==0.34.3->notebook-to-prod-template==0.1.0) (0.34.3)\n",
      "Requirement already satisfied: nbclient==0.10.2 in c:\\users\\britt\\source\\repos\\notebook-to-prod-template\\.venv\\lib\\site-packages (from notebook-to-prod-template==0.1.0) (0.10.2)\n",
      "Requirement already satisfied: ipykernel==6.27.0 in c:\\users\\britt\\source\\repos\\notebook-to-prod-template\\.venv\\lib\\site-packages (from notebook-to-prod-template==0.1.0) (6.27.0)\n",
      "Requirement already satisfied: ibm-watson==10.0.0 in c:\\users\\britt\\source\\repos\\notebook-to-prod-template\\.venv\\lib\\site-packages (from notebook-to-prod-template==0.1.0) (10.0.0)\n",
      "Requirement already satisfied: ibm-cloud-sdk-core in c:\\users\\britt\\source\\repos\\notebook-to-prod-template\\.venv\\lib\\site-packages (from notebook-to-prod-template==0.1.0) (3.24.2)\n",
      "Requirement already satisfied: pandas==2.3.0 in c:\\users\\britt\\source\\repos\\notebook-to-prod-template\\.venv\\lib\\site-packages (from notebook-to-prod-template==0.1.0) (2.3.0)\n",
      "Requirement already satisfied: pytest==8.4.1 in c:\\users\\britt\\source\\repos\\notebook-to-prod-template\\.venv\\lib\\site-packages (from notebook-to-prod-template==0.1.0) (8.4.1)\n",
      "Requirement already satisfied: pytest-cov>=4.0.0 in c:\\users\\britt\\source\\repos\\notebook-to-prod-template\\.venv\\lib\\site-packages (from notebook-to-prod-template==0.1.0) (6.2.1)\n",
      "Requirement already satisfied: flake8==7.3.0 in c:\\users\\britt\\source\\repos\\notebook-to-prod-template\\.venv\\lib\\site-packages (from notebook-to-prod-template==0.1.0) (7.3.0)\n",
      "Requirement already satisfied: starlette<0.47.0,>=0.40.0 in c:\\users\\britt\\source\\repos\\notebook-to-prod-template\\.venv\\lib\\site-packages (from fastapi==0.115.13->fastapi[standard]==0.115.13->notebook-to-prod-template==0.1.0) (0.46.2)\n",
      "Requirement already satisfied: pydantic!=1.8,!=1.8.1,!=2.0.0,!=2.0.1,!=2.1.0,<3.0.0,>=1.7.4 in c:\\users\\britt\\source\\repos\\notebook-to-prod-template\\.venv\\lib\\site-packages (from fastapi==0.115.13->fastapi[standard]==0.115.13->notebook-to-prod-template==0.1.0) (2.11.7)\n",
      "Requirement already satisfied: typing-extensions>=4.8.0 in c:\\users\\britt\\source\\repos\\notebook-to-prod-template\\.venv\\lib\\site-packages (from fastapi==0.115.13->fastapi[standard]==0.115.13->notebook-to-prod-template==0.1.0) (4.14.0)\n",
      "Requirement already satisfied: fastapi-cli>=0.0.5 in c:\\users\\britt\\source\\repos\\notebook-to-prod-template\\.venv\\lib\\site-packages (from fastapi-cli[standard]>=0.0.5; extra == \"standard\"->fastapi[standard]==0.115.13->notebook-to-prod-template==0.1.0) (0.0.7)\n",
      "Requirement already satisfied: httpx>=0.23.0 in c:\\users\\britt\\source\\repos\\notebook-to-prod-template\\.venv\\lib\\site-packages (from fastapi[standard]==0.115.13->notebook-to-prod-template==0.1.0) (0.28.1)\n",
      "Requirement already satisfied: jinja2>=3.1.5 in c:\\users\\britt\\source\\repos\\notebook-to-prod-template\\.venv\\lib\\site-packages (from fastapi[standard]==0.115.13->notebook-to-prod-template==0.1.0) (3.1.6)\n",
      "Requirement already satisfied: python-multipart>=0.0.18 in c:\\users\\britt\\source\\repos\\notebook-to-prod-template\\.venv\\lib\\site-packages (from fastapi[standard]==0.115.13->notebook-to-prod-template==0.1.0) (0.0.20)\n",
      "Requirement already satisfied: email-validator>=2.0.0 in c:\\users\\britt\\source\\repos\\notebook-to-prod-template\\.venv\\lib\\site-packages (from fastapi[standard]==0.115.13->notebook-to-prod-template==0.1.0) (2.2.0)\n",
      "Requirement already satisfied: mccabe<0.8.0,>=0.7.0 in c:\\users\\britt\\source\\repos\\notebook-to-prod-template\\.venv\\lib\\site-packages (from flake8==7.3.0->notebook-to-prod-template==0.1.0) (0.7.0)\n",
      "Requirement already satisfied: pycodestyle<2.15.0,>=2.14.0 in c:\\users\\britt\\source\\repos\\notebook-to-prod-template\\.venv\\lib\\site-packages (from flake8==7.3.0->notebook-to-prod-template==0.1.0) (2.14.0)\n",
      "Requirement already satisfied: pyflakes<3.5.0,>=3.4.0 in c:\\users\\britt\\source\\repos\\notebook-to-prod-template\\.venv\\lib\\site-packages (from flake8==7.3.0->notebook-to-prod-template==0.1.0) (3.4.0)\n",
      "Requirement already satisfied: requests<3.0,>=2.0 in c:\\users\\britt\\source\\repos\\notebook-to-prod-template\\.venv\\lib\\site-packages (from ibm-watson==10.0.0->notebook-to-prod-template==0.1.0) (2.32.4)\n",
      "Requirement already satisfied: python_dateutil>=2.5.3 in c:\\users\\britt\\source\\repos\\notebook-to-prod-template\\.venv\\lib\\site-packages (from ibm-watson==10.0.0->notebook-to-prod-template==0.1.0) (2.9.0.post0)\n",
      "Requirement already satisfied: websocket-client>=1.1.0 in c:\\users\\britt\\source\\repos\\notebook-to-prod-template\\.venv\\lib\\site-packages (from ibm-watson==10.0.0->notebook-to-prod-template==0.1.0) (1.8.0)\n",
      "Requirement already satisfied: comm>=0.1.1 in c:\\users\\britt\\source\\repos\\notebook-to-prod-template\\.venv\\lib\\site-packages (from ipykernel==6.27.0->notebook-to-prod-template==0.1.0) (0.2.2)\n",
      "Requirement already satisfied: debugpy>=1.6.5 in c:\\users\\britt\\source\\repos\\notebook-to-prod-template\\.venv\\lib\\site-packages (from ipykernel==6.27.0->notebook-to-prod-template==0.1.0) (1.8.14)\n",
      "Requirement already satisfied: ipython>=7.23.1 in c:\\users\\britt\\source\\repos\\notebook-to-prod-template\\.venv\\lib\\site-packages (from ipykernel==6.27.0->notebook-to-prod-template==0.1.0) (9.3.0)\n",
      "Requirement already satisfied: jupyter-client>=6.1.12 in c:\\users\\britt\\source\\repos\\notebook-to-prod-template\\.venv\\lib\\site-packages (from ipykernel==6.27.0->notebook-to-prod-template==0.1.0) (8.6.3)\n",
      "Requirement already satisfied: jupyter-core!=5.0.*,>=4.12 in c:\\users\\britt\\source\\repos\\notebook-to-prod-template\\.venv\\lib\\site-packages (from ipykernel==6.27.0->notebook-to-prod-template==0.1.0) (5.8.1)\n",
      "Requirement already satisfied: matplotlib-inline>=0.1 in c:\\users\\britt\\source\\repos\\notebook-to-prod-template\\.venv\\lib\\site-packages (from ipykernel==6.27.0->notebook-to-prod-template==0.1.0) (0.1.7)\n",
      "Requirement already satisfied: nest-asyncio in c:\\users\\britt\\source\\repos\\notebook-to-prod-template\\.venv\\lib\\site-packages (from ipykernel==6.27.0->notebook-to-prod-template==0.1.0) (1.6.0)\n",
      "Requirement already satisfied: packaging in c:\\users\\britt\\source\\repos\\notebook-to-prod-template\\.venv\\lib\\site-packages (from ipykernel==6.27.0->notebook-to-prod-template==0.1.0) (25.0)\n",
      "Requirement already satisfied: psutil in c:\\users\\britt\\source\\repos\\notebook-to-prod-template\\.venv\\lib\\site-packages (from ipykernel==6.27.0->notebook-to-prod-template==0.1.0) (7.0.0)\n",
      "Requirement already satisfied: pyzmq>=20 in c:\\users\\britt\\source\\repos\\notebook-to-prod-template\\.venv\\lib\\site-packages (from ipykernel==6.27.0->notebook-to-prod-template==0.1.0) (27.0.0)\n",
      "Requirement already satisfied: tornado>=6.1 in c:\\users\\britt\\source\\repos\\notebook-to-prod-template\\.venv\\lib\\site-packages (from ipykernel==6.27.0->notebook-to-prod-template==0.1.0) (6.5.1)\n",
      "Requirement already satisfied: traitlets>=5.4.0 in c:\\users\\britt\\source\\repos\\notebook-to-prod-template\\.venv\\lib\\site-packages (from ipykernel==6.27.0->notebook-to-prod-template==0.1.0) (5.14.3)\n",
      "Requirement already satisfied: nbformat>=5.1 in c:\\users\\britt\\source\\repos\\notebook-to-prod-template\\.venv\\lib\\site-packages (from nbclient==0.10.2->notebook-to-prod-template==0.1.0) (5.10.4)\n",
      "Requirement already satisfied: numpy>=1.26.0 in c:\\users\\britt\\source\\repos\\notebook-to-prod-template\\.venv\\lib\\site-packages (from pandas==2.3.0->notebook-to-prod-template==0.1.0) (2.3.1)\n",
      "Requirement already satisfied: pytz>=2020.1 in c:\\users\\britt\\source\\repos\\notebook-to-prod-template\\.venv\\lib\\site-packages (from pandas==2.3.0->notebook-to-prod-template==0.1.0) (2025.2)\n",
      "Requirement already satisfied: tzdata>=2022.7 in c:\\users\\britt\\source\\repos\\notebook-to-prod-template\\.venv\\lib\\site-packages (from pandas==2.3.0->notebook-to-prod-template==0.1.0) (2025.2)\n",
      "Requirement already satisfied: colorama>=0.4 in c:\\users\\britt\\source\\repos\\notebook-to-prod-template\\.venv\\lib\\site-packages (from pytest==8.4.1->notebook-to-prod-template==0.1.0) (0.4.6)\n",
      "Requirement already satisfied: iniconfig>=1 in c:\\users\\britt\\source\\repos\\notebook-to-prod-template\\.venv\\lib\\site-packages (from pytest==8.4.1->notebook-to-prod-template==0.1.0) (2.1.0)\n",
      "Requirement already satisfied: pluggy<2,>=1.5 in c:\\users\\britt\\source\\repos\\notebook-to-prod-template\\.venv\\lib\\site-packages (from pytest==8.4.1->notebook-to-prod-template==0.1.0) (1.6.0)\n",
      "Requirement already satisfied: pygments>=2.7.2 in c:\\users\\britt\\source\\repos\\notebook-to-prod-template\\.venv\\lib\\site-packages (from pytest==8.4.1->notebook-to-prod-template==0.1.0) (2.19.2)\n",
      "Requirement already satisfied: click>=7.0 in c:\\users\\britt\\source\\repos\\notebook-to-prod-template\\.venv\\lib\\site-packages (from uvicorn==0.34.3->uvicorn[standard]==0.34.3->notebook-to-prod-template==0.1.0) (8.2.1)\n",
      "Requirement already satisfied: h11>=0.8 in c:\\users\\britt\\source\\repos\\notebook-to-prod-template\\.venv\\lib\\site-packages (from uvicorn==0.34.3->uvicorn[standard]==0.34.3->notebook-to-prod-template==0.1.0) (0.16.0)\n",
      "Requirement already satisfied: httptools>=0.6.3 in c:\\users\\britt\\source\\repos\\notebook-to-prod-template\\.venv\\lib\\site-packages (from uvicorn[standard]==0.34.3->notebook-to-prod-template==0.1.0) (0.6.4)\n",
      "Requirement already satisfied: python-dotenv>=0.13 in c:\\users\\britt\\source\\repos\\notebook-to-prod-template\\.venv\\lib\\site-packages (from uvicorn[standard]==0.34.3->notebook-to-prod-template==0.1.0) (1.1.0)\n",
      "Requirement already satisfied: pyyaml>=5.1 in c:\\users\\britt\\source\\repos\\notebook-to-prod-template\\.venv\\lib\\site-packages (from uvicorn[standard]==0.34.3->notebook-to-prod-template==0.1.0) (6.0.2)\n",
      "Requirement already satisfied: watchfiles>=0.13 in c:\\users\\britt\\source\\repos\\notebook-to-prod-template\\.venv\\lib\\site-packages (from uvicorn[standard]==0.34.3->notebook-to-prod-template==0.1.0) (1.1.0)\n",
      "Requirement already satisfied: websockets>=10.4 in c:\\users\\britt\\source\\repos\\notebook-to-prod-template\\.venv\\lib\\site-packages (from uvicorn[standard]==0.34.3->notebook-to-prod-template==0.1.0) (15.0.1)\n",
      "Requirement already satisfied: urllib3<3.0.0,>=2.4.0 in c:\\users\\britt\\source\\repos\\notebook-to-prod-template\\.venv\\lib\\site-packages (from ibm-cloud-sdk-core->notebook-to-prod-template==0.1.0) (2.5.0)\n",
      "Requirement already satisfied: PyJWT<3.0.0,>=2.10.1 in c:\\users\\britt\\source\\repos\\notebook-to-prod-template\\.venv\\lib\\site-packages (from ibm-cloud-sdk-core->notebook-to-prod-template==0.1.0) (2.10.1)\n",
      "Requirement already satisfied: annotated-types>=0.6.0 in c:\\users\\britt\\source\\repos\\notebook-to-prod-template\\.venv\\lib\\site-packages (from pydantic!=1.8,!=1.8.1,!=2.0.0,!=2.0.1,!=2.1.0,<3.0.0,>=1.7.4->fastapi==0.115.13->fastapi[standard]==0.115.13->notebook-to-prod-template==0.1.0) (0.7.0)\n",
      "Requirement already satisfied: pydantic-core==2.33.2 in c:\\users\\britt\\source\\repos\\notebook-to-prod-template\\.venv\\lib\\site-packages (from pydantic!=1.8,!=1.8.1,!=2.0.0,!=2.0.1,!=2.1.0,<3.0.0,>=1.7.4->fastapi==0.115.13->fastapi[standard]==0.115.13->notebook-to-prod-template==0.1.0) (2.33.2)\n",
      "Requirement already satisfied: typing-inspection>=0.4.0 in c:\\users\\britt\\source\\repos\\notebook-to-prod-template\\.venv\\lib\\site-packages (from pydantic!=1.8,!=1.8.1,!=2.0.0,!=2.0.1,!=2.1.0,<3.0.0,>=1.7.4->fastapi==0.115.13->fastapi[standard]==0.115.13->notebook-to-prod-template==0.1.0) (0.4.1)\n",
      "Requirement already satisfied: six>=1.5 in c:\\users\\britt\\source\\repos\\notebook-to-prod-template\\.venv\\lib\\site-packages (from python_dateutil>=2.5.3->ibm-watson==10.0.0->notebook-to-prod-template==0.1.0) (1.17.0)\n",
      "Requirement already satisfied: charset_normalizer<4,>=2 in c:\\users\\britt\\source\\repos\\notebook-to-prod-template\\.venv\\lib\\site-packages (from requests<3.0,>=2.0->ibm-watson==10.0.0->notebook-to-prod-template==0.1.0) (3.4.2)\n",
      "Requirement already satisfied: idna<4,>=2.5 in c:\\users\\britt\\source\\repos\\notebook-to-prod-template\\.venv\\lib\\site-packages (from requests<3.0,>=2.0->ibm-watson==10.0.0->notebook-to-prod-template==0.1.0) (3.10)\n",
      "Requirement already satisfied: certifi>=2017.4.17 in c:\\users\\britt\\source\\repos\\notebook-to-prod-template\\.venv\\lib\\site-packages (from requests<3.0,>=2.0->ibm-watson==10.0.0->notebook-to-prod-template==0.1.0) (2025.6.15)\n",
      "Requirement already satisfied: anyio<5,>=3.6.2 in c:\\users\\britt\\source\\repos\\notebook-to-prod-template\\.venv\\lib\\site-packages (from starlette<0.47.0,>=0.40.0->fastapi==0.115.13->fastapi[standard]==0.115.13->notebook-to-prod-template==0.1.0) (4.9.0)\n",
      "Requirement already satisfied: sniffio>=1.1 in c:\\users\\britt\\source\\repos\\notebook-to-prod-template\\.venv\\lib\\site-packages (from anyio<5,>=3.6.2->starlette<0.47.0,>=0.40.0->fastapi==0.115.13->fastapi[standard]==0.115.13->notebook-to-prod-template==0.1.0) (1.3.1)\n",
      "Requirement already satisfied: dnspython>=2.0.0 in c:\\users\\britt\\source\\repos\\notebook-to-prod-template\\.venv\\lib\\site-packages (from email-validator>=2.0.0->fastapi[standard]==0.115.13->notebook-to-prod-template==0.1.0) (2.7.0)\n",
      "Requirement already satisfied: typer>=0.12.3 in c:\\users\\britt\\source\\repos\\notebook-to-prod-template\\.venv\\lib\\site-packages (from fastapi-cli>=0.0.5->fastapi-cli[standard]>=0.0.5; extra == \"standard\"->fastapi[standard]==0.115.13->notebook-to-prod-template==0.1.0) (0.16.0)\n",
      "Requirement already satisfied: rich-toolkit>=0.11.1 in c:\\users\\britt\\source\\repos\\notebook-to-prod-template\\.venv\\lib\\site-packages (from fastapi-cli>=0.0.5->fastapi-cli[standard]>=0.0.5; extra == \"standard\"->fastapi[standard]==0.115.13->notebook-to-prod-template==0.1.0) (0.14.7)\n",
      "Requirement already satisfied: httpcore==1.* in c:\\users\\britt\\source\\repos\\notebook-to-prod-template\\.venv\\lib\\site-packages (from httpx>=0.23.0->fastapi[standard]==0.115.13->notebook-to-prod-template==0.1.0) (1.0.9)\n",
      "Requirement already satisfied: decorator in c:\\users\\britt\\source\\repos\\notebook-to-prod-template\\.venv\\lib\\site-packages (from ipython>=7.23.1->ipykernel==6.27.0->notebook-to-prod-template==0.1.0) (5.2.1)\n",
      "Requirement already satisfied: ipython-pygments-lexers in c:\\users\\britt\\source\\repos\\notebook-to-prod-template\\.venv\\lib\\site-packages (from ipython>=7.23.1->ipykernel==6.27.0->notebook-to-prod-template==0.1.0) (1.1.1)\n",
      "Requirement already satisfied: jedi>=0.16 in c:\\users\\britt\\source\\repos\\notebook-to-prod-template\\.venv\\lib\\site-packages (from ipython>=7.23.1->ipykernel==6.27.0->notebook-to-prod-template==0.1.0) (0.19.2)\n",
      "Requirement already satisfied: prompt_toolkit<3.1.0,>=3.0.41 in c:\\users\\britt\\source\\repos\\notebook-to-prod-template\\.venv\\lib\\site-packages (from ipython>=7.23.1->ipykernel==6.27.0->notebook-to-prod-template==0.1.0) (3.0.51)\n",
      "Requirement already satisfied: stack_data in c:\\users\\britt\\source\\repos\\notebook-to-prod-template\\.venv\\lib\\site-packages (from ipython>=7.23.1->ipykernel==6.27.0->notebook-to-prod-template==0.1.0) (0.6.3)\n",
      "Requirement already satisfied: wcwidth in c:\\users\\britt\\source\\repos\\notebook-to-prod-template\\.venv\\lib\\site-packages (from prompt_toolkit<3.1.0,>=3.0.41->ipython>=7.23.1->ipykernel==6.27.0->notebook-to-prod-template==0.1.0) (0.2.13)\n",
      "Requirement already satisfied: parso<0.9.0,>=0.8.4 in c:\\users\\britt\\source\\repos\\notebook-to-prod-template\\.venv\\lib\\site-packages (from jedi>=0.16->ipython>=7.23.1->ipykernel==6.27.0->notebook-to-prod-template==0.1.0) (0.8.4)\n",
      "Requirement already satisfied: MarkupSafe>=2.0 in c:\\users\\britt\\source\\repos\\notebook-to-prod-template\\.venv\\lib\\site-packages (from jinja2>=3.1.5->fastapi[standard]==0.115.13->notebook-to-prod-template==0.1.0) (3.0.2)\n",
      "Requirement already satisfied: platformdirs>=2.5 in c:\\users\\britt\\source\\repos\\notebook-to-prod-template\\.venv\\lib\\site-packages (from jupyter-core!=5.0.*,>=4.12->ipykernel==6.27.0->notebook-to-prod-template==0.1.0) (4.3.8)\n",
      "Requirement already satisfied: pywin32>=300 in c:\\users\\britt\\source\\repos\\notebook-to-prod-template\\.venv\\lib\\site-packages (from jupyter-core!=5.0.*,>=4.12->ipykernel==6.27.0->notebook-to-prod-template==0.1.0) (310)\n",
      "Requirement already satisfied: fastjsonschema>=2.15 in c:\\users\\britt\\source\\repos\\notebook-to-prod-template\\.venv\\lib\\site-packages (from nbformat>=5.1->nbclient==0.10.2->notebook-to-prod-template==0.1.0) (2.21.1)\n",
      "Requirement already satisfied: jsonschema>=2.6 in c:\\users\\britt\\source\\repos\\notebook-to-prod-template\\.venv\\lib\\site-packages (from nbformat>=5.1->nbclient==0.10.2->notebook-to-prod-template==0.1.0) (4.24.0)\n",
      "Requirement already satisfied: attrs>=22.2.0 in c:\\users\\britt\\source\\repos\\notebook-to-prod-template\\.venv\\lib\\site-packages (from jsonschema>=2.6->nbformat>=5.1->nbclient==0.10.2->notebook-to-prod-template==0.1.0) (25.3.0)\n",
      "Requirement already satisfied: jsonschema-specifications>=2023.03.6 in c:\\users\\britt\\source\\repos\\notebook-to-prod-template\\.venv\\lib\\site-packages (from jsonschema>=2.6->nbformat>=5.1->nbclient==0.10.2->notebook-to-prod-template==0.1.0) (2025.4.1)\n",
      "Requirement already satisfied: referencing>=0.28.4 in c:\\users\\britt\\source\\repos\\notebook-to-prod-template\\.venv\\lib\\site-packages (from jsonschema>=2.6->nbformat>=5.1->nbclient==0.10.2->notebook-to-prod-template==0.1.0) (0.36.2)\n",
      "Requirement already satisfied: rpds-py>=0.7.1 in c:\\users\\britt\\source\\repos\\notebook-to-prod-template\\.venv\\lib\\site-packages (from jsonschema>=2.6->nbformat>=5.1->nbclient==0.10.2->notebook-to-prod-template==0.1.0) (0.25.1)\n",
      "Requirement already satisfied: coverage>=7.5 in c:\\users\\britt\\source\\repos\\notebook-to-prod-template\\.venv\\lib\\site-packages (from coverage[toml]>=7.5->pytest-cov>=4.0.0->notebook-to-prod-template==0.1.0) (7.9.1)\n",
      "Requirement already satisfied: rich>=13.7.1 in c:\\users\\britt\\source\\repos\\notebook-to-prod-template\\.venv\\lib\\site-packages (from rich-toolkit>=0.11.1->fastapi-cli>=0.0.5->fastapi-cli[standard]>=0.0.5; extra == \"standard\"->fastapi[standard]==0.115.13->notebook-to-prod-template==0.1.0) (14.0.0)\n",
      "Requirement already satisfied: markdown-it-py>=2.2.0 in c:\\users\\britt\\source\\repos\\notebook-to-prod-template\\.venv\\lib\\site-packages (from rich>=13.7.1->rich-toolkit>=0.11.1->fastapi-cli>=0.0.5->fastapi-cli[standard]>=0.0.5; extra == \"standard\"->fastapi[standard]==0.115.13->notebook-to-prod-template==0.1.0) (3.0.0)\n",
      "Requirement already satisfied: mdurl~=0.1 in c:\\users\\britt\\source\\repos\\notebook-to-prod-template\\.venv\\lib\\site-packages (from markdown-it-py>=2.2.0->rich>=13.7.1->rich-toolkit>=0.11.1->fastapi-cli>=0.0.5->fastapi-cli[standard]>=0.0.5; extra == \"standard\"->fastapi[standard]==0.115.13->notebook-to-prod-template==0.1.0) (0.1.2)\n",
      "Requirement already satisfied: shellingham>=1.3.0 in c:\\users\\britt\\source\\repos\\notebook-to-prod-template\\.venv\\lib\\site-packages (from typer>=0.12.3->fastapi-cli>=0.0.5->fastapi-cli[standard]>=0.0.5; extra == \"standard\"->fastapi[standard]==0.115.13->notebook-to-prod-template==0.1.0) (1.5.4)\n",
      "Requirement already satisfied: executing>=1.2.0 in c:\\users\\britt\\source\\repos\\notebook-to-prod-template\\.venv\\lib\\site-packages (from stack_data->ipython>=7.23.1->ipykernel==6.27.0->notebook-to-prod-template==0.1.0) (2.2.0)\n",
      "Requirement already satisfied: asttokens>=2.1.0 in c:\\users\\britt\\source\\repos\\notebook-to-prod-template\\.venv\\lib\\site-packages (from stack_data->ipython>=7.23.1->ipykernel==6.27.0->notebook-to-prod-template==0.1.0) (3.0.0)\n",
      "Requirement already satisfied: pure-eval in c:\\users\\britt\\source\\repos\\notebook-to-prod-template\\.venv\\lib\\site-packages (from stack_data->ipython>=7.23.1->ipykernel==6.27.0->notebook-to-prod-template==0.1.0) (0.2.3)\n",
      "Building wheels for collected packages: notebook-to-prod-template\n",
      "  Building editable for notebook-to-prod-template (pyproject.toml): started\n",
      "  Building editable for notebook-to-prod-template (pyproject.toml): finished with status 'done'\n",
      "  Created wheel for notebook-to-prod-template: filename=notebook_to_prod_template-0.1.0-0.editable-py3-none-any.whl size=5122 sha256=fb99b459e343b6ae4e936c5a2f449c4b352847f810d55295722b619fa3195dd8\n",
      "  Stored in directory: C:\\Users\\britt\\AppData\\Local\\Temp\\pip-ephem-wheel-cache-iijsp6wt\\wheels\\0e\\e0\\00\\cd9158c9f30a589834dd45f2d872433226f2b8fbc77b01da61\n",
      "Successfully built notebook-to-prod-template\n",
      "Installing collected packages: notebook-to-prod-template\n",
      "  Attempting uninstall: notebook-to-prod-template\n",
      "    Found existing installation: notebook-to-prod-template 0.1.0\n",
      "    Uninstalling notebook-to-prod-template-0.1.0:\n",
      "      Successfully uninstalled notebook-to-prod-template-0.1.0\n",
      "Successfully installed notebook-to-prod-template-0.1.0\n",
      "Note: you may need to restart the kernel to use updated packages.\n"
     ]
    }
   ],
   "source": [
    "# Install your package in editable mode if needed\n",
    "%pip install -e .."
   ]
  },
  {
   "cell_type": "code",
   "execution_count": 2,
   "id": "2faede02",
   "metadata": {},
   "outputs": [],
   "source": [
    "import pandas as pd\n",
    "from notebook_service.cli import *"
   ]
  },
  {
   "cell_type": "markdown",
   "id": "c59673fa",
   "metadata": {},
   "source": [
    "        4.2 Load and preview data"
   ]
  },
  {
   "cell_type": "code",
   "execution_count": null,
   "id": "c09e1c08",
   "metadata": {},
   "outputs": [],
   "source": [
    "df = pd.read_csv(\"../data/input.csv\")\n",
    "nlu_df = analyze_df(df, text_column=\"entries\")\n",
    "nlu_df.head()"
   ]
  },
  {
   "cell_type": "markdown",
   "id": "193e0278",
   "metadata": {},
   "source": [
    "### 5. Preprocessing\n",
    "\n",
    "        5.1 Data cleaning, NLP (concept extraction, emotion tagging)"
   ]
  },
  {
   "cell_type": "code",
   "execution_count": null,
   "id": "e0b39495",
   "metadata": {},
   "outputs": [],
   "source": [
    "concepts = nlu_df[\"concepts\"]\n",
    "pd.set_option(\"display.max_colwidth\", None)\n",
    "concepts"
   ]
  },
  {
   "cell_type": "markdown",
   "id": "c714bd5b",
   "metadata": {},
   "source": [
    "        5.2 Construction of nodes and edges"
   ]
  },
  {
   "cell_type": "code",
   "execution_count": null,
   "id": "03ec3726",
   "metadata": {},
   "outputs": [],
   "source": []
  },
  {
   "cell_type": "markdown",
   "id": "f8dd457c",
   "metadata": {},
   "source": [
    "        5.3 Create initial DataFrames or dictionaries"
   ]
  },
  {
   "cell_type": "markdown",
   "id": "0445eb06",
   "metadata": {},
   "source": []
  }
 ],
 "metadata": {
  "kernelspec": {
   "display_name": "Python (notebook-env)",
   "language": "python",
   "name": "notebook-env"
  },
  "language_info": {
   "codemirror_mode": {
    "name": "ipython",
    "version": 3
   },
   "file_extension": ".py",
   "mimetype": "text/x-python",
   "name": "python",
   "nbconvert_exporter": "python",
   "pygments_lexer": "ipython3",
   "version": "3.13.3"
  }
 },
 "nbformat": 4,
 "nbformat_minor": 5
}
